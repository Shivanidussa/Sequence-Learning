{
 "cells": [
  {
   "cell_type": "markdown",
   "id": "605cee8a",
   "metadata": {},
   "source": [
    "## Predicting Google stock Prices Using RNN\n",
    "This use-case provides a demo of how RNN and GRU can be used to model time series data. In our use-case, we will use 'Google stock price' data to predict the number of future stock prices based on the available historical data. You have been given a dataset that contains google stock prices from 2013 to 2018. We have to model the time series data using RNN GRU sequential model."
   ]
  },
  {
   "cell_type": "code",
   "execution_count": 1,
   "id": "a556d3db",
   "metadata": {},
   "outputs": [],
   "source": [
    "import numpy as np\n",
    "import pandas as pd\n",
    "import matplotlib.pyplot as plt\n",
    "plt.style.use(\"fivethirtyeight\")\n",
    "from sklearn.preprocessing import MinMaxScaler\n",
    "from keras.models import Sequential\n",
    "from keras.layers import Dense, LSTM, Dropout, GRU, Bidirectional, SimpleRNN\n",
    "from tensorflow.keras.optimizers import SGD\n",
    "import math\n",
    "from sklearn.metrics import mean_squared_error"
   ]
  },
  {
   "cell_type": "code",
   "execution_count": 2,
   "id": "4c228ed3",
   "metadata": {},
   "outputs": [],
   "source": [
    "# some functions to help out with predictions\n",
    "def predictions_plot(test,predicted):\n",
    "    plt.plot(test, color = 'red', label = 'Real Google stock price')\n",
    "    plt.plot(predicted, color = 'blue', label = 'Predicted Google Stock Price')\n",
    "    plt.title('Google Stock price Prediction')\n",
    "    plt.xlabel('time')\n",
    "    plt.ylabel('Google Stock Price')\n",
    "    plt.legend()\n",
    "    plt.show()\n",
    "    \n",
    "def rmse_return(test, predicted):\n",
    "    rmse = math.sqrt(mean_squared_error(test, predicted))\n",
    "    print(\"The root mean squared error is {}.\".format(rmse))"
   ]
  },
  {
   "cell_type": "markdown",
   "id": "e5315599",
   "metadata": {},
   "source": [
    "## Collecting the Data\n",
    "The dataset trainset.csv will be used for the demo. The dataset contains google stock prices from 2013 to 2018. It has been downloaded from the site https://www.kaggle.com/ptheru/google-stock-price-prediction-rnn/data "
   ]
  },
  {
   "cell_type": "code",
   "execution_count": 3,
   "id": "2b6ac654",
   "metadata": {},
   "outputs": [
    {
     "name": "stdout",
     "output_type": "stream",
     "text": [
      "(1259, 6)\n"
     ]
    },
    {
     "data": {
      "text/html": [
       "<div>\n",
       "<style scoped>\n",
       "    .dataframe tbody tr th:only-of-type {\n",
       "        vertical-align: middle;\n",
       "    }\n",
       "\n",
       "    .dataframe tbody tr th {\n",
       "        vertical-align: top;\n",
       "    }\n",
       "\n",
       "    .dataframe thead th {\n",
       "        text-align: right;\n",
       "    }\n",
       "</style>\n",
       "<table border=\"1\" class=\"dataframe\">\n",
       "  <thead>\n",
       "    <tr style=\"text-align: right;\">\n",
       "      <th></th>\n",
       "      <th>Open</th>\n",
       "      <th>High</th>\n",
       "      <th>Low</th>\n",
       "      <th>Close</th>\n",
       "      <th>Adj Close</th>\n",
       "      <th>Volume</th>\n",
       "    </tr>\n",
       "    <tr>\n",
       "      <th>Date</th>\n",
       "      <th></th>\n",
       "      <th></th>\n",
       "      <th></th>\n",
       "      <th></th>\n",
       "      <th></th>\n",
       "      <th></th>\n",
       "    </tr>\n",
       "  </thead>\n",
       "  <tbody>\n",
       "    <tr>\n",
       "      <th>2013-01-02</th>\n",
       "      <td>357.385559</td>\n",
       "      <td>361.151062</td>\n",
       "      <td>355.959839</td>\n",
       "      <td>359.288177</td>\n",
       "      <td>359.288177</td>\n",
       "      <td>5115500</td>\n",
       "    </tr>\n",
       "    <tr>\n",
       "      <th>2013-01-03</th>\n",
       "      <td>360.122742</td>\n",
       "      <td>363.600128</td>\n",
       "      <td>358.031342</td>\n",
       "      <td>359.496826</td>\n",
       "      <td>359.496826</td>\n",
       "      <td>4666500</td>\n",
       "    </tr>\n",
       "    <tr>\n",
       "      <th>2013-01-04</th>\n",
       "      <td>362.313507</td>\n",
       "      <td>368.339294</td>\n",
       "      <td>361.488861</td>\n",
       "      <td>366.600616</td>\n",
       "      <td>366.600616</td>\n",
       "      <td>5562800</td>\n",
       "    </tr>\n",
       "    <tr>\n",
       "      <th>2013-01-07</th>\n",
       "      <td>365.348755</td>\n",
       "      <td>367.301056</td>\n",
       "      <td>362.929504</td>\n",
       "      <td>365.001007</td>\n",
       "      <td>365.001007</td>\n",
       "      <td>3332900</td>\n",
       "    </tr>\n",
       "    <tr>\n",
       "      <th>2013-01-08</th>\n",
       "      <td>365.393463</td>\n",
       "      <td>365.771027</td>\n",
       "      <td>359.874359</td>\n",
       "      <td>364.280701</td>\n",
       "      <td>364.280701</td>\n",
       "      <td>3373900</td>\n",
       "    </tr>\n",
       "  </tbody>\n",
       "</table>\n",
       "</div>"
      ],
      "text/plain": [
       "                  Open        High         Low       Close   Adj Close  \\\n",
       "Date                                                                     \n",
       "2013-01-02  357.385559  361.151062  355.959839  359.288177  359.288177   \n",
       "2013-01-03  360.122742  363.600128  358.031342  359.496826  359.496826   \n",
       "2013-01-04  362.313507  368.339294  361.488861  366.600616  366.600616   \n",
       "2013-01-07  365.348755  367.301056  362.929504  365.001007  365.001007   \n",
       "2013-01-08  365.393463  365.771027  359.874359  364.280701  364.280701   \n",
       "\n",
       "             Volume  \n",
       "Date                 \n",
       "2013-01-02  5115500  \n",
       "2013-01-03  4666500  \n",
       "2013-01-04  5562800  \n",
       "2013-01-07  3332900  \n",
       "2013-01-08  3373900  "
      ]
     },
     "execution_count": 3,
     "metadata": {},
     "output_type": "execute_result"
    }
   ],
   "source": [
    "# Load the data\n",
    "dataset = pd.read_csv(r\"C:\\Users\\Shivani Dussa\\Downloads\\trainset.csv\", index_col = 'Date', parse_dates = ['Date'])\n",
    "print(dataset.shape)\n",
    "dataset.head()"
   ]
  },
  {
   "cell_type": "code",
   "execution_count": 4,
   "id": "ef36cc7a",
   "metadata": {},
   "outputs": [
    {
     "data": {
      "text/html": [
       "<div>\n",
       "<style scoped>\n",
       "    .dataframe tbody tr th:only-of-type {\n",
       "        vertical-align: middle;\n",
       "    }\n",
       "\n",
       "    .dataframe tbody tr th {\n",
       "        vertical-align: top;\n",
       "    }\n",
       "\n",
       "    .dataframe thead th {\n",
       "        text-align: right;\n",
       "    }\n",
       "</style>\n",
       "<table border=\"1\" class=\"dataframe\">\n",
       "  <thead>\n",
       "    <tr style=\"text-align: right;\">\n",
       "      <th></th>\n",
       "      <th>Open</th>\n",
       "      <th>High</th>\n",
       "      <th>Low</th>\n",
       "      <th>Close</th>\n",
       "      <th>Adj Close</th>\n",
       "      <th>Volume</th>\n",
       "    </tr>\n",
       "    <tr>\n",
       "      <th>Date</th>\n",
       "      <th></th>\n",
       "      <th></th>\n",
       "      <th></th>\n",
       "      <th></th>\n",
       "      <th></th>\n",
       "      <th></th>\n",
       "    </tr>\n",
       "  </thead>\n",
       "  <tbody>\n",
       "    <tr>\n",
       "      <th>2017-12-22</th>\n",
       "      <td>1061.109985</td>\n",
       "      <td>1064.199951</td>\n",
       "      <td>1059.439941</td>\n",
       "      <td>1060.119995</td>\n",
       "      <td>1060.119995</td>\n",
       "      <td>755100</td>\n",
       "    </tr>\n",
       "    <tr>\n",
       "      <th>2017-12-26</th>\n",
       "      <td>1058.069946</td>\n",
       "      <td>1060.119995</td>\n",
       "      <td>1050.199951</td>\n",
       "      <td>1056.739990</td>\n",
       "      <td>1056.739990</td>\n",
       "      <td>760600</td>\n",
       "    </tr>\n",
       "    <tr>\n",
       "      <th>2017-12-27</th>\n",
       "      <td>1057.390015</td>\n",
       "      <td>1058.369995</td>\n",
       "      <td>1048.050049</td>\n",
       "      <td>1049.369995</td>\n",
       "      <td>1049.369995</td>\n",
       "      <td>1271900</td>\n",
       "    </tr>\n",
       "    <tr>\n",
       "      <th>2017-12-28</th>\n",
       "      <td>1051.599976</td>\n",
       "      <td>1054.750000</td>\n",
       "      <td>1044.770020</td>\n",
       "      <td>1048.140015</td>\n",
       "      <td>1048.140015</td>\n",
       "      <td>837100</td>\n",
       "    </tr>\n",
       "    <tr>\n",
       "      <th>2017-12-29</th>\n",
       "      <td>1046.719971</td>\n",
       "      <td>1049.699951</td>\n",
       "      <td>1044.900024</td>\n",
       "      <td>1046.400024</td>\n",
       "      <td>1046.400024</td>\n",
       "      <td>887500</td>\n",
       "    </tr>\n",
       "  </tbody>\n",
       "</table>\n",
       "</div>"
      ],
      "text/plain": [
       "                   Open         High          Low        Close    Adj Close  \\\n",
       "Date                                                                          \n",
       "2017-12-22  1061.109985  1064.199951  1059.439941  1060.119995  1060.119995   \n",
       "2017-12-26  1058.069946  1060.119995  1050.199951  1056.739990  1056.739990   \n",
       "2017-12-27  1057.390015  1058.369995  1048.050049  1049.369995  1049.369995   \n",
       "2017-12-28  1051.599976  1054.750000  1044.770020  1048.140015  1048.140015   \n",
       "2017-12-29  1046.719971  1049.699951  1044.900024  1046.400024  1046.400024   \n",
       "\n",
       "             Volume  \n",
       "Date                 \n",
       "2017-12-22   755100  \n",
       "2017-12-26   760600  \n",
       "2017-12-27  1271900  \n",
       "2017-12-28   837100  \n",
       "2017-12-29   887500  "
      ]
     },
     "execution_count": 4,
     "metadata": {},
     "output_type": "execute_result"
    }
   ],
   "source": [
    "dataset.tail()"
   ]
  },
  {
   "cell_type": "code",
   "execution_count": 19,
   "id": "0fe99fed",
   "metadata": {},
   "outputs": [],
   "source": [
    "# Observation :\n",
    "#The google stock price data is from 2013 to 2017"
   ]
  },
  {
   "cell_type": "code",
   "execution_count": 8,
   "id": "4c2563cf",
   "metadata": {},
   "outputs": [
    {
     "name": "stdout",
     "output_type": "stream",
     "text": [
      "<class 'pandas.core.frame.DataFrame'>\n",
      "<class 'pandas.core.series.Series'>\n",
      "<class 'numpy.ndarray'>\n"
     ]
    }
   ],
   "source": [
    "print(type(dataset))\n",
    "print(type(dataset[:'2016']['High']))   #printing the type of data upto 2016 from 'high' column\n",
    "print(type(dataset[:'2016']['High'].values))   # only values of High upto 2016 "
   ]
  },
  {
   "cell_type": "markdown",
   "id": "e7d3a857",
   "metadata": {},
   "source": [
    "#### Checking Nulls"
   ]
  },
  {
   "cell_type": "code",
   "execution_count": 39,
   "id": "04e474c7",
   "metadata": {},
   "outputs": [
    {
     "data": {
      "text/plain": [
       "Open         0\n",
       "High         0\n",
       "Low          0\n",
       "Close        0\n",
       "Adj Close    0\n",
       "Volume       0\n",
       "dtype: int64"
      ]
     },
     "execution_count": 39,
     "metadata": {},
     "output_type": "execute_result"
    }
   ],
   "source": [
    "dataset.isnull().sum()"
   ]
  },
  {
   "cell_type": "markdown",
   "id": "7a5762b8",
   "metadata": {},
   "source": [
    "#### Checking Duplicates"
   ]
  },
  {
   "cell_type": "code",
   "execution_count": 41,
   "id": "477c73d0",
   "metadata": {},
   "outputs": [
    {
     "data": {
      "text/plain": [
       "0"
      ]
     },
     "execution_count": 41,
     "metadata": {},
     "output_type": "execute_result"
    }
   ],
   "source": [
    "dataset.duplicated().sum()"
   ]
  },
  {
   "cell_type": "code",
   "execution_count": 10,
   "id": "6363f403",
   "metadata": {},
   "outputs": [
    {
     "data": {
      "text/plain": [
       "(1008,)"
      ]
     },
     "execution_count": 10,
     "metadata": {},
     "output_type": "execute_result"
    }
   ],
   "source": [
    "dataset[:'2016']['High'].shape    # shape of high prediction upto 2016"
   ]
  },
  {
   "cell_type": "code",
   "execution_count": 12,
   "id": "53dbdad6",
   "metadata": {},
   "outputs": [
    {
     "data": {
      "text/plain": [
       "array([361.151062, 363.600128, 368.339294, ..., 794.22998 , 785.929993,\n",
       "       782.780029])"
      ]
     },
     "execution_count": 12,
     "metadata": {},
     "output_type": "execute_result"
    }
   ],
   "source": [
    "dataset[:'2016']['High'].values"
   ]
  },
  {
   "cell_type": "code",
   "execution_count": 13,
   "id": "4dc88a87",
   "metadata": {},
   "outputs": [
    {
     "name": "stdout",
     "output_type": "stream",
     "text": [
      "<class 'numpy.ndarray'> (1008,)\n"
     ]
    }
   ],
   "source": [
    "x1 = dataset[:'2016']['High'].values\n",
    "print(type(x1), x1.shape)\n"
   ]
  },
  {
   "cell_type": "code",
   "execution_count": 14,
   "id": "d55008bf",
   "metadata": {},
   "outputs": [
    {
     "data": {
      "text/plain": [
       "(1008, 1)"
      ]
     },
     "execution_count": 14,
     "metadata": {},
     "output_type": "execute_result"
    }
   ],
   "source": [
    "# reshaping \n",
    "x2 = x1.reshape(-1,1)\n",
    "x2.shape"
   ]
  },
  {
   "cell_type": "raw",
   "id": "0f0d80c5",
   "metadata": {},
   "source": [
    "Note: \n",
    "     Here, total there are upto 2017 year predictions but we are taking the predictions upto 2016 only, because upto 2016 is training data and from 2017 is testing data."
   ]
  },
  {
   "cell_type": "code",
   "execution_count": 52,
   "id": "35a7082d",
   "metadata": {},
   "outputs": [
    {
     "name": "stdout",
     "output_type": "stream",
     "text": [
      "(1008, 1) (251, 1) (1259, 6)\n",
      "<class 'numpy.ndarray'> <class 'numpy.ndarray'> <class 'pandas.core.frame.DataFrame'>\n"
     ]
    }
   ],
   "source": [
    "# training and testing data\n",
    "training_set = dataset[:'2016']['High'].values.reshape(-1,1)\n",
    "testing_set = dataset['2017':]['High'].values.reshape(-1,1)\n",
    "\n",
    "print(training_set.shape,testing_set.shape,dataset.shape)\n",
    "print(type(training_set),type(testing_set), type(dataset))"
   ]
  },
  {
   "cell_type": "code",
   "execution_count": null,
   "id": "f7094bb1",
   "metadata": {},
   "outputs": [],
   "source": [
    "# we Have choosen High Attribute for Stock prices. Lets see how its look likes."
   ]
  },
  {
   "cell_type": "code",
   "execution_count": 50,
   "id": "06deceec",
   "metadata": {},
   "outputs": [
    {
     "data": {
      "image/png": "[encoded data removed]",
      "text/plain": [
       "<Figure size 1152x288 with 1 Axes>"
      ]
     },
     "metadata": {},
     "output_type": "display_data"
    }
   ],
   "source": [
    "dataset['High'][:'2016'].plot(figsize = (16,4), legend = True)\n",
    "dataset['High']['2017':].plot(figsize = (16,4), legend = True)\n",
    "plt.legend(['Training set(Upto 2016)', 'Test set (2017 and beyond)'])\n",
    "plt.title('Google Dtock Price')\n",
    "plt.show()"
   ]
  },
  {
   "cell_type": "code",
   "execution_count": 51,
   "id": "a96968cf",
   "metadata": {},
   "outputs": [
    {
     "data": {
      "text/plain": [
       "array([[361.151062],\n",
       "       [363.600128],\n",
       "       [368.339294],\n",
       "       [367.301056],\n",
       "       [365.771027],\n",
       "       [366.789398],\n",
       "       [370.092896],\n",
       "       [368.816193],\n",
       "       [368.701935],\n",
       "       [365.125214]])"
      ]
     },
     "execution_count": 51,
     "metadata": {},
     "output_type": "execute_result"
    }
   ],
   "source": [
    "training_set[:10]"
   ]
  },
  {
   "cell_type": "code",
   "execution_count": 53,
   "id": "648a040b",
   "metadata": {},
   "outputs": [
    {
     "data": {
      "text/plain": [
       "(1008, 1)"
      ]
     },
     "execution_count": 53,
     "metadata": {},
     "output_type": "execute_result"
    }
   ],
   "source": [
    "# Scaling the training set\n",
    "sc = MinMaxScaler(feature_range = (0,1))\n",
    "training_set_scaled = sc.fit_transform(training_set)\n",
    "training_set_scaled.shape"
   ]
  },
  {
   "cell_type": "code",
   "execution_count": 54,
   "id": "84fc3bd4",
   "metadata": {},
   "outputs": [
    {
     "data": {
      "text/plain": [
       "array([[0.02307584],\n",
       "       [0.02832809],\n",
       "       [0.03849167],\n",
       "       ...,\n",
       "       [0.95185386],\n",
       "       [0.93405377],\n",
       "       [0.92729837]])"
      ]
     },
     "execution_count": 54,
     "metadata": {},
     "output_type": "execute_result"
    }
   ],
   "source": [
    "training_set_scaled"
   ]
  },
  {
   "cell_type": "code",
   "execution_count": 57,
   "id": "0542ad80",
   "metadata": {},
   "outputs": [
    {
     "data": {
      "text/plain": [
       "array([[361.151062],\n",
       "       [363.600128],\n",
       "       [368.339294],\n",
       "       [367.301056],\n",
       "       [365.771027],\n",
       "       [366.789398],\n",
       "       [370.092896],\n",
       "       [368.816193],\n",
       "       [368.701935],\n",
       "       [365.125214]])"
      ]
     },
     "execution_count": 57,
     "metadata": {},
     "output_type": "execute_result"
    }
   ],
   "source": [
    "# Before scaling (original)\n",
    "training_set[:10]"
   ]
  },
  {
   "cell_type": "code",
   "execution_count": 58,
   "id": "3049345d",
   "metadata": {},
   "outputs": [
    {
     "data": {
      "text/plain": [
       "array([[0.02307584],\n",
       "       [0.02832809],\n",
       "       [0.03849167],\n",
       "       [0.03626508],\n",
       "       [0.03298379],\n",
       "       [0.03516778],\n",
       "       [0.04225244],\n",
       "       [0.03951443],\n",
       "       [0.03926939],\n",
       "       [0.03159878]])"
      ]
     },
     "execution_count": 58,
     "metadata": {},
     "output_type": "execute_result"
    }
   ],
   "source": [
    "# After scaling\n",
    "training_set_scaled[:10]"
   ]
  },
  {
   "cell_type": "markdown",
   "id": "58eb7f40",
   "metadata": {},
   "source": [
    "- **We create a data Structure with 60 timesteps and 1 output**\n",
    "- **One row of X_train will have 60 sequential values, and y_train will have the 61st value**"
   ]
  },
  {
   "cell_type": "code",
   "execution_count": 59,
   "id": "4984c261",
   "metadata": {},
   "outputs": [
    {
     "name": "stdout",
     "output_type": "stream",
     "text": [
      "(948, 60) (948,)\n"
     ]
    }
   ],
   "source": [
    "X_train = []\n",
    "y_train = []\n",
    "train_len = len(training_set_scaled)\n",
    "for i in range(60, train_len):\n",
    "    X_train.append(training_set_scaled[i-60:i,0])\n",
    "    y_train.append(training_set_scaled[i,0])\n",
    "X_train,y_train = np.array(X_train),np.array(y_train)\n",
    "print(X_train.shape,y_train.shape)"
   ]
  },
  {
   "cell_type": "code",
   "execution_count": null,
   "id": "fd2c196f",
   "metadata": {},
   "outputs": [],
   "source": [
    "# Here, 948 shape is 1008-60 = 948, and in X_train there are 60 timesteps and in y_train it have 61 st value "
   ]
  },
  {
   "cell_type": "code",
   "execution_count": 62,
   "id": "af666b29",
   "metadata": {},
   "outputs": [
    {
     "data": {
      "text/plain": [
       "(array([0.02307584, 0.02832809, 0.03849167, 0.03626508, 0.03298379,\n",
       "        0.03516778, 0.04225244, 0.03951443, 0.03926939, 0.03159878,\n",
       "        0.02024195, 0.01523474, 0.00791565, 0.        , 0.04651394,\n",
       "        0.05485572, 0.05661358, 0.05354532, 0.0549836 , 0.05924504,\n",
       "        0.05569737, 0.07591806, 0.06938735, 0.07006918, 0.07204014,\n",
       "        0.07827254, 0.08664632, 0.08273641, 0.08795672, 0.08524005,\n",
       "        0.08885159, 0.0936671 , 0.10830522, 0.110404  , 0.10665391,\n",
       "        0.10217937, 0.10980738, 0.09653293, 0.10590813, 0.10829455,\n",
       "        0.10845438, 0.12518067, 0.14362215, 0.14772383, 0.13986139,\n",
       "        0.13805026, 0.14314275, 0.13482224, 0.13354378, 0.12960193,\n",
       "        0.1224746 , 0.11444173, 0.12135597, 0.11950222, 0.11887366,\n",
       "        0.11708386, 0.1213347 , 0.1157628 , 0.10830522, 0.10656869]),)"
      ]
     },
     "execution_count": 62,
     "metadata": {},
     "output_type": "execute_result"
    }
   ],
   "source": [
    "X_train[0],"
   ]
  },
  {
   "cell_type": "code",
   "execution_count": 63,
   "id": "88a8e737",
   "metadata": {},
   "outputs": [
    {
     "data": {
      "text/plain": [
       "0.10324473039561122"
      ]
     },
     "execution_count": 63,
     "metadata": {},
     "output_type": "execute_result"
    }
   ],
   "source": [
    "y_train[0]"
   ]
  },
  {
   "cell_type": "markdown",
   "id": "d1497fd2",
   "metadata": {},
   "source": [
    "For being used by the RNN/GRU/LSTM layers, we need the shape of X_train to be: [ batch_size, time_steps, Features ]\n",
    "* We will use the full data in a single batch, so batch size will be 948\n",
    "* There are 60 time steps\n",
    "* At each time step, the price is the feature, which is of 1-dimension. Compare this with a word, which can have higher dimension based on the word embedding chosen"
   ]
  },
  {
   "cell_type": "code",
   "execution_count": 67,
   "id": "957f0812",
   "metadata": {},
   "outputs": [
    {
     "name": "stdout",
     "output_type": "stream",
     "text": [
      "(948, 60, 1)\n"
     ]
    }
   ],
   "source": [
    "X_train = np.reshape(X_train, (X_train.shape[0], X_train.shape[1],1))\n",
    "print(X_train.shape)"
   ]
  },
  {
   "cell_type": "markdown",
   "id": "17c57820",
   "metadata": {},
   "source": [
    "## Create the Model\n",
    "\n",
    "* units - hidden layer dimension (no. of neurons)\n",
    "* return sequences - when True, returns the output of each time step. Default False, returns the last output"
   ]
  },
  {
   "cell_type": "code",
   "execution_count": 68,
   "id": "77ad7dd5",
   "metadata": {},
   "outputs": [],
   "source": [
    "model = Sequential()\n",
    "model.add(SimpleRNN(50, input_shape = (X_train.shape[1],1), activation = 'tanh'))\n",
    "model.add(Dropout(0.2))\n",
    "\n",
    "# The output layer\n",
    "model.add(Dense(units = 1))"
   ]
  },
  {
   "cell_type": "code",
   "execution_count": 69,
   "id": "bdf15e99",
   "metadata": {},
   "outputs": [
    {
     "name": "stdout",
     "output_type": "stream",
     "text": [
      "Model: \"sequential\"\n",
      "_________________________________________________________________\n",
      " Layer (type)                Output Shape              Param #   \n",
      "=================================================================\n",
      " simple_rnn (SimpleRNN)      (None, 50)                2600      \n",
      "                                                                 \n",
      " dropout (Dropout)           (None, 50)                0         \n",
      "                                                                 \n",
      " dense (Dense)               (None, 1)                 51        \n",
      "                                                                 \n",
      "=================================================================\n",
      "Total params: 2,651\n",
      "Trainable params: 2,651\n",
      "Non-trainable params: 0\n",
      "_________________________________________________________________\n"
     ]
    }
   ],
   "source": [
    "model.summary()"
   ]
  },
  {
   "cell_type": "markdown",
   "id": "bc0e550d",
   "metadata": {},
   "source": [
    "## Train the Model"
   ]
  },
  {
   "cell_type": "markdown",
   "id": "9d7f7751",
   "metadata": {},
   "source": [
    "There aren't definitive results on one optimization algorithm being \"better\" than another. The common wisdom (which needs to be taken with a pound of salt) has been that Adam requires less experimentation to get convergence on the first try than SGD and variants thereof. However, this is highly dataset/model dependent. More recently some groups have made the claim that despite training faster, models trained with Adam generalize worse to the validation or test sets. See https://arxiv.org/abs/1712.07628 for more information.\n",
    "\n",
    "Gradient descent optimization algorithms - nice blog - https://ruder.io/optimizing-gradient-descent/"
   ]
  },
  {
   "cell_type": "code",
   "execution_count": 70,
   "id": "ea286939",
   "metadata": {},
   "outputs": [
    {
     "name": "stdout",
     "output_type": "stream",
     "text": [
      "Epoch 1/50\n",
      "7/7 [==============================] - 2s 19ms/step - loss: 0.0450\n",
      "Epoch 2/50\n",
      "7/7 [==============================] - 0s 17ms/step - loss: 0.0201\n",
      "Epoch 3/50\n",
      "7/7 [==============================] - 0s 18ms/step - loss: 0.0158\n",
      "Epoch 4/50\n",
      "7/7 [==============================] - 0s 14ms/step - loss: 0.0123\n",
      "Epoch 5/50\n",
      "7/7 [==============================] - 0s 18ms/step - loss: 0.0088\n",
      "Epoch 6/50\n",
      "7/7 [==============================] - 0s 17ms/step - loss: 0.0077\n",
      "Epoch 7/50\n",
      "7/7 [==============================] - 0s 18ms/step - loss: 0.0072\n",
      "Epoch 8/50\n",
      "7/7 [==============================] - 0s 17ms/step - loss: 0.0070\n",
      "Epoch 9/50\n",
      "7/7 [==============================] - 0s 18ms/step - loss: 0.0055\n",
      "Epoch 10/50\n",
      "7/7 [==============================] - 0s 17ms/step - loss: 0.0053\n",
      "Epoch 11/50\n",
      "7/7 [==============================] - 0s 18ms/step - loss: 0.0053\n",
      "Epoch 12/50\n",
      "7/7 [==============================] - 0s 17ms/step - loss: 0.0052\n",
      "Epoch 13/50\n",
      "7/7 [==============================] - 0s 19ms/step - loss: 0.0045\n",
      "Epoch 14/50\n",
      "7/7 [==============================] - 0s 17ms/step - loss: 0.0048\n",
      "Epoch 15/50\n",
      "7/7 [==============================] - 0s 18ms/step - loss: 0.0047\n",
      "Epoch 16/50\n",
      "7/7 [==============================] - 0s 18ms/step - loss: 0.0042\n",
      "Epoch 17/50\n",
      "7/7 [==============================] - 0s 17ms/step - loss: 0.0036\n",
      "Epoch 18/50\n",
      "7/7 [==============================] - 0s 17ms/step - loss: 0.0039\n",
      "Epoch 19/50\n",
      "7/7 [==============================] - 0s 18ms/step - loss: 0.0037\n",
      "Epoch 20/50\n",
      "7/7 [==============================] - 0s 18ms/step - loss: 0.0037\n",
      "Epoch 21/50\n",
      "7/7 [==============================] - 0s 17ms/step - loss: 0.0040\n",
      "Epoch 22/50\n",
      "7/7 [==============================] - 0s 16ms/step - loss: 0.0035\n",
      "Epoch 23/50\n",
      "7/7 [==============================] - 0s 17ms/step - loss: 0.0036\n",
      "Epoch 24/50\n",
      "7/7 [==============================] - 0s 17ms/step - loss: 0.0035\n",
      "Epoch 25/50\n",
      "7/7 [==============================] - 0s 18ms/step - loss: 0.0034\n",
      "Epoch 26/50\n",
      "7/7 [==============================] - 0s 17ms/step - loss: 0.0035\n",
      "Epoch 27/50\n",
      "7/7 [==============================] - 0s 17ms/step - loss: 0.0030\n",
      "Epoch 28/50\n",
      "7/7 [==============================] - 0s 18ms/step - loss: 0.0034\n",
      "Epoch 29/50\n",
      "7/7 [==============================] - 0s 17ms/step - loss: 0.0032\n",
      "Epoch 30/50\n",
      "7/7 [==============================] - 0s 17ms/step - loss: 0.0031\n",
      "Epoch 31/50\n",
      "7/7 [==============================] - 0s 18ms/step - loss: 0.0034\n",
      "Epoch 32/50\n",
      "7/7 [==============================] - 0s 17ms/step - loss: 0.0032\n",
      "Epoch 33/50\n",
      "7/7 [==============================] - 0s 18ms/step - loss: 0.0030\n",
      "Epoch 34/50\n",
      "7/7 [==============================] - 0s 16ms/step - loss: 0.0032\n",
      "Epoch 35/50\n",
      "7/7 [==============================] - 0s 17ms/step - loss: 0.0030\n",
      "Epoch 36/50\n",
      "7/7 [==============================] - 0s 18ms/step - loss: 0.0032\n",
      "Epoch 37/50\n",
      "7/7 [==============================] - 0s 17ms/step - loss: 0.0032\n",
      "Epoch 38/50\n",
      "7/7 [==============================] - 0s 17ms/step - loss: 0.0032\n",
      "Epoch 39/50\n",
      "7/7 [==============================] - 0s 17ms/step - loss: 0.0032\n",
      "Epoch 40/50\n",
      "7/7 [==============================] - 0s 17ms/step - loss: 0.0029\n",
      "Epoch 41/50\n",
      "7/7 [==============================] - 0s 18ms/step - loss: 0.0029\n",
      "Epoch 42/50\n",
      "7/7 [==============================] - 0s 17ms/step - loss: 0.0027\n",
      "Epoch 43/50\n",
      "7/7 [==============================] - 0s 18ms/step - loss: 0.0027\n",
      "Epoch 44/50\n",
      "7/7 [==============================] - 0s 18ms/step - loss: 0.0027\n",
      "Epoch 45/50\n",
      "7/7 [==============================] - 0s 18ms/step - loss: 0.0026\n",
      "Epoch 46/50\n",
      "7/7 [==============================] - 0s 13ms/step - loss: 0.0026\n",
      "Epoch 47/50\n",
      "7/7 [==============================] - 0s 19ms/step - loss: 0.0025\n",
      "Epoch 48/50\n",
      "7/7 [==============================] - 0s 16ms/step - loss: 0.0025\n",
      "Epoch 49/50\n",
      "7/7 [==============================] - 0s 16ms/step - loss: 0.0027\n",
      "Epoch 50/50\n",
      "7/7 [==============================] - 0s 16ms/step - loss: 0.0027\n"
     ]
    },
    {
     "data": {
      "text/plain": [
       "<keras.callbacks.History at 0x1c1222fa670>"
      ]
     },
     "execution_count": 70,
     "metadata": {},
     "output_type": "execute_result"
    }
   ],
   "source": [
    "# Compiling the GRU \n",
    "model.compile(optimizer = 'Adam',loss = 'mean_squared_error')\n",
    "# Fitting the training set\n",
    "model.fit(X_train, y_train, epochs = 50,batch_size = 150)"
   ]
  },
  {
   "cell_type": "markdown",
   "id": "f1626775",
   "metadata": {},
   "source": [
    "### Test the Model"
   ]
  },
  {
   "cell_type": "markdown",
   "id": "805a0caa",
   "metadata": {},
   "source": [
    "* We use the previous 60 days’ stock prices to predict the next-day price\n",
    "* So, we need the 60 days’ price before the 1st date in the test dataset.\n",
    "* Accordingly, we create the input for prediction, index starting from the date 60 days before the first date in the test dataset."
   ]
  },
  {
   "cell_type": "code",
   "execution_count": 77,
   "id": "efc4f7ff",
   "metadata": {},
   "outputs": [
    {
     "name": "stdout",
     "output_type": "stream",
     "text": [
      "1259 251\n",
      "(311,)\n",
      "(311, 1)\n"
     ]
    }
   ],
   "source": [
    "dataset_total = dataset['High']   # total from 2013 to 2017\n",
    "inputs = dataset_total[len(dataset_total) - len(testing_set) - 60:].values   # 60 values of traindata and all values of testdata\n",
    "print(len(dataset_total), len(testing_set))\n",
    "print(inputs.shape)\n",
    "\n",
    "inputs = inputs.reshape(-1,1)\n",
    "print(inputs.shape)\n",
    "inputs = sc.transform(inputs)\n"
   ]
  },
  {
   "cell_type": "code",
   "execution_count": 78,
   "id": "cfc635d2",
   "metadata": {},
   "outputs": [],
   "source": [
    "#inputs"
   ]
  },
  {
   "cell_type": "code",
   "execution_count": 81,
   "id": "24925c43",
   "metadata": {},
   "outputs": [
    {
     "name": "stdout",
     "output_type": "stream",
     "text": [
      "(251, 60)\n",
      "(251, 60, 1)\n"
     ]
    }
   ],
   "source": [
    "# Preparing for X_test and predicting the prices\n",
    "X_test = []\n",
    "for i in range(60, len(inputs)):\n",
    "    X_test.append(inputs[i-60:i,0])\n",
    "X_test = np.array(X_test)\n",
    "print(X_test.shape)\n",
    "\n",
    "X_test = np.expand_dims(X_test, 2)\n",
    "print(X_test.shape)"
   ]
  },
  {
   "cell_type": "code",
   "execution_count": 83,
   "id": "9d8aef9e",
   "metadata": {},
   "outputs": [],
   "source": [
    "predicted_stock_price = model.predict(X_test)\n",
    "predicted_stock_price = sc.inverse_transform(predicted_stock_price)"
   ]
  },
  {
   "cell_type": "code",
   "execution_count": 85,
   "id": "5fe76a10",
   "metadata": {},
   "outputs": [
    {
     "data": {
      "image/png": "[encoded data removed]",
      "text/plain": [
       "<Figure size 432x288 with 1 Axes>"
      ]
     },
     "metadata": {},
     "output_type": "display_data"
    }
   ],
   "source": [
    "# Visualize the results for GPU \n",
    "predictions_plot(testing_set,predicted_stock_price) "
   ]
  },
  {
   "cell_type": "markdown",
   "id": "49b8c20b",
   "metadata": {},
   "source": [
    "- **The prediction is almost almost same from 0 - 80  and at 180 - 250 there is much difference**"
   ]
  },
  {
   "cell_type": "code",
   "execution_count": 86,
   "id": "9658537a",
   "metadata": {},
   "outputs": [
    {
     "name": "stdout",
     "output_type": "stream",
     "text": [
      "The root mean squared error is 21.361576889918414.\n"
     ]
    }
   ],
   "source": [
    "## Evaluating GRU \n",
    "rmse_return(testing_set, predicted_stock_price)"
   ]
  },
  {
   "cell_type": "code",
   "execution_count": null,
   "id": "573004b8",
   "metadata": {},
   "outputs": [],
   "source": []
  },
  {
   "cell_type": "code",
   "execution_count": null,
   "id": "2876aff3",
   "metadata": {},
   "outputs": [],
   "source": []
  },
  {
   "cell_type": "code",
   "execution_count": null,
   "id": "3b58f200",
   "metadata": {},
   "outputs": [],
   "source": []
  },
  {
   "cell_type": "code",
   "execution_count": null,
   "id": "710e6a9a",
   "metadata": {},
   "outputs": [],
   "source": []
  },
  {
   "cell_type": "code",
   "execution_count": null,
   "id": "7720f615",
   "metadata": {},
   "outputs": [],
   "source": []
  }
 ],
 "metadata": {
  "kernelspec": {
   "display_name": "Python 3 (ipykernel)",
   "language": "python",
   "name": "python3"
  },
  "language_info": {
   "codemirror_mode": {
    "name": "ipython",
    "version": 3
   },
   "file_extension": ".py",
   "mimetype": "text/x-python",
   "name": "python",
   "nbconvert_exporter": "python",
   "pygments_lexer": "ipython3",
   "version": "3.9.12"
  }
 },
 "nbformat": 4,
 "nbformat_minor": 5
}
