{
 "cells": [
  {
   "cell_type": "markdown",
   "id": "38e12073",
   "metadata": {},
   "source": [
    "## Predicting Google Stock Prices Using LSTM and GRU Model "
   ]
  },
  {
   "cell_type": "markdown",
   "id": "ac681af7",
   "metadata": {},
   "source": [
    "This use-case provides a demo of how RNN and GRU can be used to model time series data. In our use-case, we will use 'Google stock price' data to predict the number of future stock prices based on the available historical data. You have been given a dataset that contains google stock prices from 2013 to 2018. We have to model the time series data using RNN GRU sequential model.\n",
    "\n",
    "**Similar examples with LSTM:**<br>\n",
    "https://towardsdatascience.com/predicting-stock-prices-using-a-keras-lstm-model-4225457f0233<br>\n",
    "https://towardsdatascience.com/lstm-time-series-forecasting-predicting-stock-prices-using-an-lstm-model-6223e9644a2f\n",
    "\n",
    "**Understanding LSTM layer:**<br>\n",
    "https://machinelearningmastery.com/return-sequences-and-return-states-for-lstms-in-keras/"
   ]
  },
  {
   "cell_type": "markdown",
   "id": "c8a45244",
   "metadata": {},
   "source": [
    "### **Importing Libraries** "
   ]
  },
  {
   "cell_type": "code",
   "execution_count": 1,
   "id": "6404a34b",
   "metadata": {},
   "outputs": [],
   "source": [
    "import numpy as np\n",
    "import pandas as pd\n",
    "import matplotlib.pyplot as plt\n",
    "plt.style.use('fivethirtyeight')\n",
    "from sklearn.preprocessing import MinMaxScaler\n",
    "from keras.models import Sequential\n",
    "from keras.layers import Dense, LSTM, Dropout,GRU\n",
    "from tensorflow.keras.optimizers import SGD\n",
    "import math\n",
    "from sklearn.metrics import mean_squared_error"
   ]
  },
  {
   "cell_type": "code",
   "execution_count": 2,
   "id": "1527fe28",
   "metadata": {},
   "outputs": [],
   "source": [
    "# helping function\n",
    "def predictions_plot(test, predicted):\n",
    "    plt.plot(test, color = 'red', label = 'Real Google Stock Price')\n",
    "    plt.plot(predicted, color = 'blue',label = 'Predicted Google Stock Price')\n",
    "    plt.title('Google Stock Price Prediction')\n",
    "    plt.xlabel('Time')\n",
    "    plt.ylabel('Google Stock Price')\n",
    "    plt.legend()\n",
    "    plt.show()\n",
    "    \n",
    "def rmse_return(test, predicted):\n",
    "    rmse = math.sqrt(mean_squared_error(test, predicted))\n",
    "    print(\"Root Mean Squared Error is {}.\".format(rmse))"
   ]
  },
  {
   "cell_type": "markdown",
   "id": "94db596d",
   "metadata": {},
   "source": [
    "### Collecting the Data"
   ]
  },
  {
   "cell_type": "code",
   "execution_count": 5,
   "id": "9a83b05a",
   "metadata": {},
   "outputs": [
    {
     "name": "stdout",
     "output_type": "stream",
     "text": [
      "(1259, 6)\n"
     ]
    },
    {
     "data": {
      "text/html": [
       "<div>\n",
       "<style scoped>\n",
       "    .dataframe tbody tr th:only-of-type {\n",
       "        vertical-align: middle;\n",
       "    }\n",
       "\n",
       "    .dataframe tbody tr th {\n",
       "        vertical-align: top;\n",
       "    }\n",
       "\n",
       "    .dataframe thead th {\n",
       "        text-align: right;\n",
       "    }\n",
       "</style>\n",
       "<table border=\"1\" class=\"dataframe\">\n",
       "  <thead>\n",
       "    <tr style=\"text-align: right;\">\n",
       "      <th></th>\n",
       "      <th>Open</th>\n",
       "      <th>High</th>\n",
       "      <th>Low</th>\n",
       "      <th>Close</th>\n",
       "      <th>Adj Close</th>\n",
       "      <th>Volume</th>\n",
       "    </tr>\n",
       "    <tr>\n",
       "      <th>Date</th>\n",
       "      <th></th>\n",
       "      <th></th>\n",
       "      <th></th>\n",
       "      <th></th>\n",
       "      <th></th>\n",
       "      <th></th>\n",
       "    </tr>\n",
       "  </thead>\n",
       "  <tbody>\n",
       "    <tr>\n",
       "      <th>2013-01-02</th>\n",
       "      <td>357.385559</td>\n",
       "      <td>361.151062</td>\n",
       "      <td>355.959839</td>\n",
       "      <td>359.288177</td>\n",
       "      <td>359.288177</td>\n",
       "      <td>5115500</td>\n",
       "    </tr>\n",
       "    <tr>\n",
       "      <th>2013-01-03</th>\n",
       "      <td>360.122742</td>\n",
       "      <td>363.600128</td>\n",
       "      <td>358.031342</td>\n",
       "      <td>359.496826</td>\n",
       "      <td>359.496826</td>\n",
       "      <td>4666500</td>\n",
       "    </tr>\n",
       "    <tr>\n",
       "      <th>2013-01-04</th>\n",
       "      <td>362.313507</td>\n",
       "      <td>368.339294</td>\n",
       "      <td>361.488861</td>\n",
       "      <td>366.600616</td>\n",
       "      <td>366.600616</td>\n",
       "      <td>5562800</td>\n",
       "    </tr>\n",
       "    <tr>\n",
       "      <th>2013-01-07</th>\n",
       "      <td>365.348755</td>\n",
       "      <td>367.301056</td>\n",
       "      <td>362.929504</td>\n",
       "      <td>365.001007</td>\n",
       "      <td>365.001007</td>\n",
       "      <td>3332900</td>\n",
       "    </tr>\n",
       "    <tr>\n",
       "      <th>2013-01-08</th>\n",
       "      <td>365.393463</td>\n",
       "      <td>365.771027</td>\n",
       "      <td>359.874359</td>\n",
       "      <td>364.280701</td>\n",
       "      <td>364.280701</td>\n",
       "      <td>3373900</td>\n",
       "    </tr>\n",
       "  </tbody>\n",
       "</table>\n",
       "</div>"
      ],
      "text/plain": [
       "                  Open        High         Low       Close   Adj Close  \\\n",
       "Date                                                                     \n",
       "2013-01-02  357.385559  361.151062  355.959839  359.288177  359.288177   \n",
       "2013-01-03  360.122742  363.600128  358.031342  359.496826  359.496826   \n",
       "2013-01-04  362.313507  368.339294  361.488861  366.600616  366.600616   \n",
       "2013-01-07  365.348755  367.301056  362.929504  365.001007  365.001007   \n",
       "2013-01-08  365.393463  365.771027  359.874359  364.280701  364.280701   \n",
       "\n",
       "             Volume  \n",
       "Date                 \n",
       "2013-01-02  5115500  \n",
       "2013-01-03  4666500  \n",
       "2013-01-04  5562800  \n",
       "2013-01-07  3332900  \n",
       "2013-01-08  3373900  "
      ]
     },
     "execution_count": 5,
     "metadata": {},
     "output_type": "execute_result"
    }
   ],
   "source": [
    "dataset = pd.read_csv(r\"C:\\Users\\Shivani Dussa\\Downloads\\trainset.csv\", index_col='Date', parse_dates = ['Date'])\n",
    "print(dataset.shape)\n",
    "dataset.head()"
   ]
  },
  {
   "cell_type": "code",
   "execution_count": 6,
   "id": "f810e6d8",
   "metadata": {},
   "outputs": [
    {
     "name": "stdout",
     "output_type": "stream",
     "text": [
      "(1008, 1) (251, 1) (1259, 6)\n"
     ]
    },
    {
     "data": {
      "text/plain": [
       "(numpy.ndarray, numpy.ndarray, pandas.core.frame.DataFrame)"
      ]
     },
     "execution_count": 6,
     "metadata": {},
     "output_type": "execute_result"
    }
   ],
   "source": [
    "# We are dividing this dataset into training set and testing set, upto 2016 is for training from 2017 is for testing\n",
    "\n",
    "training_set = dataset[:'2016']['High'].values.reshape(-1,1)   # we are taking High column\n",
    "testing_set = dataset['2017':]['High'].values.reshape(-1,1)\n",
    "print(training_set.shape, testing_set.shape, dataset.shape)\n",
    "type(training_set), type(testing_set), type(dataset)"
   ]
  },
  {
   "cell_type": "code",
   "execution_count": 5,
   "id": "7946e933",
   "metadata": {},
   "outputs": [
    {
     "data": {
      "image/png": "[encoded data removed]",
      "text/plain": [
       "<Figure size 1152x288 with 1 Axes>"
      ]
     },
     "metadata": {},
     "output_type": "display_data"
    }
   ],
   "source": [
    "#plotting \n",
    "dataset['High'][:'2016'].plot(figsize = (16,4), legend = True)\n",
    "dataset['High']['2017':].plot(figsize = (16,4), legend = True)\n",
    "plt.legend(['Training set (Before 2017)','Test set (2017 and beyond)'])\n",
    "plt.show()"
   ]
  },
  {
   "cell_type": "code",
   "execution_count": 7,
   "id": "f73ddc83",
   "metadata": {},
   "outputs": [
    {
     "data": {
      "text/plain": [
       "(1008, 1)"
      ]
     },
     "execution_count": 7,
     "metadata": {},
     "output_type": "execute_result"
    }
   ],
   "source": [
    "## Scaling the training set\n",
    "\n",
    "sc = MinMaxScaler(feature_range = (0,1))\n",
    "training_set_scaled = sc.fit_transform(training_set)\n",
    "training_set_scaled.shape"
   ]
  },
  {
   "cell_type": "code",
   "execution_count": 8,
   "id": "f47a17d6",
   "metadata": {},
   "outputs": [
    {
     "data": {
      "text/plain": [
       "array([[361.151062],\n",
       "       [363.600128],\n",
       "       [368.339294],\n",
       "       [367.301056],\n",
       "       [365.771027],\n",
       "       [366.789398],\n",
       "       [370.092896],\n",
       "       [368.816193],\n",
       "       [368.701935],\n",
       "       [365.125214]])"
      ]
     },
     "execution_count": 8,
     "metadata": {},
     "output_type": "execute_result"
    }
   ],
   "source": [
    "training_set[:10]"
   ]
  },
  {
   "cell_type": "code",
   "execution_count": 9,
   "id": "c2a4a107",
   "metadata": {},
   "outputs": [
    {
     "data": {
      "text/plain": [
       "array([[0.02307584],\n",
       "       [0.02832809],\n",
       "       [0.03849167],\n",
       "       [0.03626508],\n",
       "       [0.03298379],\n",
       "       [0.03516778],\n",
       "       [0.04225244],\n",
       "       [0.03951443],\n",
       "       [0.03926939],\n",
       "       [0.03159878]])"
      ]
     },
     "execution_count": 9,
     "metadata": {},
     "output_type": "execute_result"
    }
   ],
   "source": [
    "training_set_scaled[:10]"
   ]
  },
  {
   "cell_type": "markdown",
   "id": "a11c4058",
   "metadata": {},
   "source": [
    "- **we create a data structure with 60 timesteps and 1 output**\n",
    "- **One row of X_train will have 60 sequential values, and y_train will have the 61st value**"
   ]
  },
  {
   "cell_type": "code",
   "execution_count": 90,
   "id": "e16ce30a",
   "metadata": {},
   "outputs": [
    {
     "data": {
      "text/plain": [
       "1008"
      ]
     },
     "execution_count": 90,
     "metadata": {},
     "output_type": "execute_result"
    }
   ],
   "source": [
    "len(training_set_scaled)"
   ]
  },
  {
   "cell_type": "code",
   "execution_count": 10,
   "id": "3ef137fc",
   "metadata": {},
   "outputs": [
    {
     "name": "stdout",
     "output_type": "stream",
     "text": [
      "(948, 60) (948,)\n"
     ]
    }
   ],
   "source": [
    "X_train = []\n",
    "y_train = []\n",
    "train_len = len(training_set_scaled)\n",
    "for i in range(60, train_len):\n",
    "    X_train.append(training_set_scaled[i-60:i,0])\n",
    "    y_train.append(training_set_scaled[i,0])\n",
    "X_train, y_train = np.array(X_train), np.array(y_train)\n",
    "print(X_train.shape, y_train.shape)    "
   ]
  },
  {
   "cell_type": "markdown",
   "id": "b52ace58",
   "metadata": {},
   "source": [
    "For being used by the RNN/GRU/LSTM layers, we need the shape of X_train to be: [ batch_size, time_steps, Features ]\n",
    "* We will use the full data in a single batch, so batch size will be 948\n",
    "* There are 60 time steps\n",
    "* At each time step, the price is the feature, which is of 1-dimension. Compare this with a word, which can have higher dimension based on the word embedding chosen"
   ]
  },
  {
   "cell_type": "code",
   "execution_count": 11,
   "id": "37b92613",
   "metadata": {},
   "outputs": [
    {
     "name": "stdout",
     "output_type": "stream",
     "text": [
      "(948, 60, 1)\n"
     ]
    }
   ],
   "source": [
    "X_train = np.reshape(X_train, (X_train.shape[0], X_train.shape[1],1))   # converting into 3 dimension\n",
    "print(X_train.shape)"
   ]
  },
  {
   "cell_type": "markdown",
   "id": "1ef3c398",
   "metadata": {},
   "source": [
    "## LSTM Model"
   ]
  },
  {
   "cell_type": "code",
   "execution_count": 93,
   "id": "5a75e5ab",
   "metadata": {},
   "outputs": [
    {
     "name": "stdout",
     "output_type": "stream",
     "text": [
      "Model: \"sequential_2\"\n",
      "_________________________________________________________________\n",
      " Layer (type)                Output Shape              Param #   \n",
      "=================================================================\n",
      " lstm_4 (LSTM)               (None, 60, 50)            10400     \n",
      "                                                                 \n",
      " dropout_4 (Dropout)         (None, 60, 50)            0         \n",
      "                                                                 \n",
      " lstm_5 (LSTM)               (None, 60, 50)            20200     \n",
      "                                                                 \n",
      " dropout_5 (Dropout)         (None, 60, 50)            0         \n",
      "                                                                 \n",
      " lstm_6 (LSTM)               (None, 60, 50)            20200     \n",
      "                                                                 \n",
      " dropout_6 (Dropout)         (None, 60, 50)            0         \n",
      "                                                                 \n",
      " lstm_7 (LSTM)               (None, 50)                20200     \n",
      "                                                                 \n",
      " dropout_7 (Dropout)         (None, 50)                0         \n",
      "                                                                 \n",
      " dense_1 (Dense)             (None, 1)                 51        \n",
      "                                                                 \n",
      "=================================================================\n",
      "Total params: 71,051\n",
      "Trainable params: 71,051\n",
      "Non-trainable params: 0\n",
      "_________________________________________________________________\n"
     ]
    }
   ],
   "source": [
    "model = Sequential()\n",
    "\n",
    "# Adding first Lstm Layer\n",
    "model.add(LSTM(units = 50, return_sequences = True, input_shape = (X_train.shape[1], 1)))  \n",
    "model.add(Dropout(rate = 0.2))\n",
    "\n",
    "# Adding 2nd Lstm Layer\n",
    "model.add(LSTM(units = 50, return_sequences = True))     #if return_seq is True we should add another layer if false dont add\n",
    "model.add(Dropout(rate = 0.2))\n",
    "\n",
    "# Adding 3rd Lstm Layer\n",
    "model.add(LSTM(units = 50, return_sequences = True))\n",
    "model.add(Dropout(rate = 0.2))\n",
    "\n",
    "# Adding 4th Lstm Layer\n",
    "model.add(LSTM(units = 50, return_sequences = False))\n",
    "model.add(Dropout(rate = 0.2))\n",
    "\n",
    "# Adding output Layer\n",
    "model.add(Dense(units = 1))\n",
    "\n",
    "model.summary()"
   ]
  },
  {
   "cell_type": "raw",
   "id": "fdbcf12b",
   "metadata": {},
   "source": [
    "1st lstm layer param are 10400... \n",
    "input(wx) = (1, 50)\n",
    "hidden(wh) = (50,50)\n",
    "b (co-efficient) = 50\n",
    "print('------------------------------------------------')\n",
    "wf( forgot gate) = (1*50) + (50*50) + 50 = 50+2500+50\n",
    "wf (forgot gate) = 2600\n",
    "wi(input gate) = 2600\n",
    "wc(candidate value gate) = 2600\n",
    "wo(output gate) = 2600\n",
    "2600+2600+2600+2600 = 1040"
   ]
  },
  {
   "cell_type": "raw",
   "id": "db916b7f",
   "metadata": {},
   "source": [
    "for 2nd layer params are 20200\n",
    "here input goes from 1st lstm hidden layer is 50 so,\n",
    "input(wx) = (50,50)\n",
    "hidden(wh) = (50,50)\n",
    "b(co-eff) = 50\n",
    "wf = (50*50) + (50*50) + 50 = 5050\n",
    "wi = 5050\n",
    "wc = 5050\n",
    "wo = 5050\n",
    "wf + wi + wc + wo = 20200"
   ]
  },
  {
   "cell_type": "markdown",
   "id": "89d0abaf",
   "metadata": {},
   "source": [
    "### Calculating the Number of parameters to Learn"
   ]
  },
  {
   "cell_type": "code",
   "execution_count": 94,
   "id": "497855be",
   "metadata": {},
   "outputs": [
    {
     "name": "stdout",
     "output_type": "stream",
     "text": [
      "LSTM Layer: lstm_4\n",
      "Input [batch_size, timesteps, features] (948, 60, 1)\n",
      "x --> Input feature/dimension: 1\n",
      "h --> Number of hidden states/LSTM units(cells)/dimensionality of the output space: 50\n",
      "------------------------------------------------------------------------------------------------------\n",
      "Shapes of matrix and vectors:\n",
      "Wx : (1, 200)\n",
      "Wh: (50, 200)\n",
      "b: (200,)\n",
      "--------------------------------------------------------------------------------------------------------\n",
      "parameters:\n",
      "Wx: 200 4*features*LSTM_output_dimension = 200\n",
      "Wh: 10000 4*LSTM_ouput_dimension*LSTM_ouput_dimension = 10000\n",
      "b: 200 4*LSTM_ouput_dimension = 200\n",
      " --------------------------------------------------------------------------------------------------------------\n",
      "Total Number of Parameters: Wx + Wh + b: 10400\n",
      "Total Number of Parameters:4 × ((x + h) × h +h): 10400\n"
     ]
    }
   ],
   "source": [
    "lstmLayer = 0\n",
    "print('LSTM Layer:', model.layers[lstmLayer].name)\n",
    "LSTM_ouput_dimension = 50\n",
    "if lstmLayer == 0:\n",
    "    features = X_train.shape[2]\n",
    "else:\n",
    "    features = LSTM_output_dimension\n",
    "    \n",
    "Wx = model.layers[lstmLayer].get_weights()[0]\n",
    "Wh = model.layers[lstmLayer].get_weights()[1]\n",
    "b = model.layers[lstmLayer].get_weights()[2]\n",
    "\n",
    "print(\"Input [batch_size, timesteps, features]\", X_train.shape)\n",
    "print(\"x --> Input feature/dimension:\", features)\n",
    "print(\"h --> Number of hidden states/LSTM units(cells)/dimensionality of the output space:\", LSTM_ouput_dimension)\n",
    "\n",
    "print(\"------------------------------------------------------------------------------------------------------\")\n",
    "print(\"Shapes of matrix and vectors:\")\n",
    "\n",
    "print(\"Wx :\", Wx.shape)\n",
    "print(\"Wh:\", Wh.shape)\n",
    "print(\"b:\", b.shape)\n",
    "\n",
    "print(\"--------------------------------------------------------------------------------------------------------\")\n",
    "print(\"parameters:\")\n",
    "print(\"Wx:\", Wx.size, '4*features*LSTM_output_dimension =', 4*features*LSTM_ouput_dimension)\n",
    "print(\"Wh:\", Wh.size, '4*LSTM_ouput_dimension*LSTM_ouput_dimension =', 4*LSTM_ouput_dimension*LSTM_ouput_dimension)\n",
    "print(\"b:\", b.size, '4*LSTM_ouput_dimension =', 4*LSTM_ouput_dimension)\n",
    "\n",
    "print(\" --------------------------------------------------------------------------------------------------------------\")\n",
    "print(\"Total Number of Parameters: Wx + Wh + b:\", Wx.size + Wh.size + b.size)\n",
    "print(\"Total Number of Parameters:4 × ((x + h) × h +h):\", \n",
    "      4 *((features+LSTM_ouput_dimension)* LSTM_ouput_dimension+LSTM_ouput_dimension))"
   ]
  },
  {
   "cell_type": "code",
   "execution_count": 95,
   "id": "0cc7f7d4",
   "metadata": {},
   "outputs": [
    {
     "data": {
      "text/plain": [
       "<keras.layers.recurrent_v2.LSTM at 0x13eef2e7700>"
      ]
     },
     "execution_count": 95,
     "metadata": {},
     "output_type": "execute_result"
    }
   ],
   "source": [
    "model.layers[lstmLayer]"
   ]
  },
  {
   "cell_type": "markdown",
   "id": "790c591e",
   "metadata": {},
   "source": [
    "### Training the Model"
   ]
  },
  {
   "cell_type": "code",
   "execution_count": 96,
   "id": "bb45f375",
   "metadata": {},
   "outputs": [
    {
     "name": "stdout",
     "output_type": "stream",
     "text": [
      "Epoch 1/50\n",
      "7/7 [==============================] - 13s 314ms/step - loss: 0.1457\n",
      "Epoch 2/50\n",
      "7/7 [==============================] - 2s 328ms/step - loss: 0.0267\n",
      "Epoch 3/50\n",
      "7/7 [==============================] - 2s 326ms/step - loss: 0.0175\n",
      "Epoch 4/50\n",
      "7/7 [==============================] - 2s 325ms/step - loss: 0.0111\n",
      "Epoch 5/50\n",
      "7/7 [==============================] - 2s 324ms/step - loss: 0.0105\n",
      "Epoch 6/50\n",
      "7/7 [==============================] - 2s 323ms/step - loss: 0.0083\n",
      "Epoch 7/50\n",
      "7/7 [==============================] - 2s 317ms/step - loss: 0.0078\n",
      "Epoch 8/50\n",
      "7/7 [==============================] - 2s 327ms/step - loss: 0.0071\n",
      "Epoch 9/50\n",
      "7/7 [==============================] - 2s 327ms/step - loss: 0.0068\n",
      "Epoch 10/50\n",
      "7/7 [==============================] - 2s 334ms/step - loss: 0.0066\n",
      "Epoch 11/50\n",
      "7/7 [==============================] - 2s 329ms/step - loss: 0.0065\n",
      "Epoch 12/50\n",
      "7/7 [==============================] - 2s 327ms/step - loss: 0.0066\n",
      "Epoch 13/50\n",
      "7/7 [==============================] - 2s 324ms/step - loss: 0.0068\n",
      "Epoch 14/50\n",
      "7/7 [==============================] - 2s 303ms/step - loss: 0.0060\n",
      "Epoch 15/50\n",
      "7/7 [==============================] - 2s 266ms/step - loss: 0.0064\n",
      "Epoch 16/50\n",
      "7/7 [==============================] - 2s 332ms/step - loss: 0.0065\n",
      "Epoch 17/50\n",
      "7/7 [==============================] - 2s 330ms/step - loss: 0.0059\n",
      "Epoch 18/50\n",
      "7/7 [==============================] - 2s 326ms/step - loss: 0.0057\n",
      "Epoch 19/50\n",
      "7/7 [==============================] - 2s 331ms/step - loss: 0.0058\n",
      "Epoch 20/50\n",
      "7/7 [==============================] - 2s 337ms/step - loss: 0.0060\n",
      "Epoch 21/50\n",
      "7/7 [==============================] - 2s 328ms/step - loss: 0.0057\n",
      "Epoch 22/50\n",
      "7/7 [==============================] - 2s 311ms/step - loss: 0.0053\n",
      "Epoch 23/50\n",
      "7/7 [==============================] - 2s 328ms/step - loss: 0.0055\n",
      "Epoch 24/50\n",
      "7/7 [==============================] - 2s 329ms/step - loss: 0.0058\n",
      "Epoch 25/50\n",
      "7/7 [==============================] - 2s 328ms/step - loss: 0.0053\n",
      "Epoch 26/50\n",
      "7/7 [==============================] - 2s 329ms/step - loss: 0.0061\n",
      "Epoch 27/50\n",
      "7/7 [==============================] - 2s 322ms/step - loss: 0.0053\n",
      "Epoch 28/50\n",
      "7/7 [==============================] - 2s 318ms/step - loss: 0.0054\n",
      "Epoch 29/50\n",
      "7/7 [==============================] - 2s 327ms/step - loss: 0.0056\n",
      "Epoch 30/50\n",
      "7/7 [==============================] - 2s 319ms/step - loss: 0.0065\n",
      "Epoch 31/50\n",
      "7/7 [==============================] - 2s 330ms/step - loss: 0.0061\n",
      "Epoch 32/50\n",
      "7/7 [==============================] - 2s 306ms/step - loss: 0.0055\n",
      "Epoch 33/50\n",
      "7/7 [==============================] - 2s 222ms/step - loss: 0.0055\n",
      "Epoch 34/50\n",
      "7/7 [==============================] - 2s 299ms/step - loss: 0.0050\n",
      "Epoch 35/50\n",
      "7/7 [==============================] - 2s 289ms/step - loss: 0.0054\n",
      "Epoch 36/50\n",
      "7/7 [==============================] - 2s 319ms/step - loss: 0.0050\n",
      "Epoch 37/50\n",
      "7/7 [==============================] - 2s 318ms/step - loss: 0.0057\n",
      "Epoch 38/50\n",
      "7/7 [==============================] - 2s 319ms/step - loss: 0.0050\n",
      "Epoch 39/50\n",
      "7/7 [==============================] - 2s 323ms/step - loss: 0.0054\n",
      "Epoch 40/50\n",
      "7/7 [==============================] - 2s 326ms/step - loss: 0.0047\n",
      "Epoch 41/50\n",
      "7/7 [==============================] - 2s 269ms/step - loss: 0.0047\n",
      "Epoch 42/50\n",
      "7/7 [==============================] - 2s 322ms/step - loss: 0.0048\n",
      "Epoch 43/50\n",
      "7/7 [==============================] - 2s 324ms/step - loss: 0.0050\n",
      "Epoch 44/50\n",
      "7/7 [==============================] - 2s 304ms/step - loss: 0.0051\n",
      "Epoch 45/50\n",
      "7/7 [==============================] - 2s 315ms/step - loss: 0.0048\n",
      "Epoch 46/50\n",
      "7/7 [==============================] - 2s 319ms/step - loss: 0.0051\n",
      "Epoch 47/50\n",
      "7/7 [==============================] - 2s 319ms/step - loss: 0.0048\n",
      "Epoch 48/50\n",
      "7/7 [==============================] - 2s 324ms/step - loss: 0.0049\n",
      "Epoch 49/50\n",
      "7/7 [==============================] - 2s 250ms/step - loss: 0.0049\n",
      "Epoch 50/50\n",
      "7/7 [==============================] - 2s 319ms/step - loss: 0.0048\n"
     ]
    },
    {
     "data": {
      "text/plain": [
       "<keras.callbacks.History at 0x13ef1ece640>"
      ]
     },
     "execution_count": 96,
     "metadata": {},
     "output_type": "execute_result"
    }
   ],
   "source": [
    "model.compile(optimizer = 'adam', loss = 'mean_squared_error')\n",
    "model.fit(X_train,y_train, epochs = 50, batch_size = 150)"
   ]
  },
  {
   "cell_type": "code",
   "execution_count": 97,
   "id": "5341c05e",
   "metadata": {},
   "outputs": [
    {
     "data": {
      "text/plain": [
       "(948, 60, 1)"
      ]
     },
     "execution_count": 97,
     "metadata": {},
     "output_type": "execute_result"
    }
   ],
   "source": [
    "X_train.shape"
   ]
  },
  {
   "cell_type": "code",
   "execution_count": 98,
   "id": "75f9de5c",
   "metadata": {},
   "outputs": [
    {
     "data": {
      "text/plain": [
       "6.32"
      ]
     },
     "execution_count": 98,
     "metadata": {},
     "output_type": "execute_result"
    }
   ],
   "source": [
    "948/150"
   ]
  },
  {
   "cell_type": "code",
   "execution_count": 99,
   "id": "c15ea560",
   "metadata": {},
   "outputs": [
    {
     "name": "stdout",
     "output_type": "stream",
     "text": [
      "1259 251\n",
      "(311,)\n",
      "(311, 1)\n"
     ]
    }
   ],
   "source": [
    "dataset_total = dataset['High']\n",
    "print(len(dataset_total), len(testing_set))\n",
    "inputs = dataset_total[len(dataset_total) - len(testing_set) - 60:].values  # len(training_Set)- 60 // 1259 - 948\n",
    "print(inputs.shape)\n",
    "inputs = inputs.reshape(-1,1)\n",
    "print(inputs.shape)\n",
    "#inputs = sc.transform(inputs)"
   ]
  },
  {
   "cell_type": "code",
   "execution_count": 100,
   "id": "8e3e3ab1",
   "metadata": {
    "collapsed": true
   },
   "outputs": [
    {
     "data": {
      "text/plain": [
       "array([[0.92236571],\n",
       "       [0.92060712],\n",
       "       [0.94145264],\n",
       "       [0.94767201],\n",
       "       [0.9387719 ],\n",
       "       [0.92395268],\n",
       "       [0.92980751],\n",
       "       [0.93388216],\n",
       "       [0.96768097],\n",
       "       [0.97409328],\n",
       "       [0.97274218],\n",
       "       [0.96315591],\n",
       "       [0.99678311],\n",
       "       [1.        ],\n",
       "       [0.97919742],\n",
       "       [0.97171281],\n",
       "       [0.99744793],\n",
       "       [0.95749415],\n",
       "       [0.94168851],\n",
       "       [0.92487497],\n",
       "       [0.89978321],\n",
       "       [0.90066243],\n",
       "       [0.93246679],\n",
       "       [0.95486276],\n",
       "       [0.94541367],\n",
       "       [0.94529141],\n",
       "       [0.88011733],\n",
       "       [0.87383356],\n",
       "       [0.88791504],\n",
       "       [0.89208406],\n",
       "       [0.90568084],\n",
       "       [0.91061338],\n",
       "       [0.89924706],\n",
       "       [0.91481683],\n",
       "       [0.89620819],\n",
       "       [0.88916745],\n",
       "       [0.92032845],\n",
       "       [0.91811945],\n",
       "       [0.90630273],\n",
       "       [0.87812274],\n",
       "       [0.86557693],\n",
       "       [0.88680845],\n",
       "       [0.89738128],\n",
       "       [0.90280703],\n",
       "       [0.91743317],\n",
       "       [0.94155984],\n",
       "       [0.94546301],\n",
       "       [0.97362153],\n",
       "       [0.97280658],\n",
       "       [0.97066198],\n",
       "       [0.96606401],\n",
       "       [0.9592098 ],\n",
       "       [0.96133305],\n",
       "       [0.95709963],\n",
       "       [0.94990234],\n",
       "       [0.94865844],\n",
       "       [0.95963874],\n",
       "       [0.95185386],\n",
       "       [0.93405377],\n",
       "       [0.92729837],\n",
       "       [0.94198879],\n",
       "       [0.94565609],\n",
       "       [0.95239001],\n",
       "       [0.98117054],\n",
       "       [0.98560122],\n",
       "       [0.98380835],\n",
       "       [0.98170669],\n",
       "       [0.98007678],\n",
       "       [0.98829911],\n",
       "       [0.97954063],\n",
       "       [0.97753544],\n",
       "       [0.9845589 ],\n",
       "       [0.97904728],\n",
       "       [1.00898585],\n",
       "       [1.01977321],\n",
       "       [1.04094034],\n",
       "       [1.04572274],\n",
       "       [1.05419391],\n",
       "       [0.99819861],\n",
       "       [0.96690894],\n",
       "       [0.96678027],\n",
       "       [0.97001863],\n",
       "       [0.97709576],\n",
       "       [0.96780964],\n",
       "       [0.98674643],\n",
       "       [0.98962024],\n",
       "       [0.98708951],\n",
       "       [0.99693325],\n",
       "       [1.00917669],\n",
       "       [1.01355384],\n",
       "       [1.01355384],\n",
       "       [1.01655632],\n",
       "       [1.02442694],\n",
       "       [1.03596487],\n",
       "       [1.03553592],\n",
       "       [1.03384174],\n",
       "       [1.0264214 ],\n",
       "       [1.02963829],\n",
       "       [1.02543484],\n",
       "       [1.04198043],\n",
       "       [1.03823813],\n",
       "       [1.03148261],\n",
       "       [1.02616406],\n",
       "       [1.035879  ],\n",
       "       [1.04604448],\n",
       "       [1.05430111],\n",
       "       [1.06054182],\n",
       "       [1.06863771],\n",
       "       [1.06553876],\n",
       "       [1.06851977],\n",
       "       [1.07328071],\n",
       "       [1.07874952],\n",
       "       [1.0719296 ],\n",
       "       [1.07896393],\n",
       "       [1.04046846],\n",
       "       [1.01263168],\n",
       "       [1.01125911],\n",
       "       [1.01061576],\n",
       "       [1.01996615],\n",
       "       [1.03449583],\n",
       "       [1.03645808],\n",
       "       [1.03208316],\n",
       "       [1.05183478],\n",
       "       [1.03967497],\n",
       "       [1.0552662 ],\n",
       "       [1.04226998],\n",
       "       [1.0253169 ],\n",
       "       [1.02717196],\n",
       "       [1.02304796],\n",
       "       [1.021403  ],\n",
       "       [1.02080258],\n",
       "       [1.04518659],\n",
       "       [1.04771719],\n",
       "       [1.05477286],\n",
       "       [1.06116383],\n",
       "       [1.05833296],\n",
       "       [1.10030266],\n",
       "       [1.12507268],\n",
       "       [1.12732448],\n",
       "       [1.12593057],\n",
       "       [1.21482384],\n",
       "       [1.21231471],\n",
       "       [1.22323074],\n",
       "       [1.23895052],\n",
       "       [1.25574272],\n",
       "       [1.25353385],\n",
       "       [1.25787657],\n",
       "       [1.25910974],\n",
       "       [1.24731448],\n",
       "       [1.24845118],\n",
       "       [1.2504027 ],\n",
       "       [1.26071819],\n",
       "       [1.27114088],\n",
       "       [1.2630408 ],\n",
       "       [1.24982362],\n",
       "       [1.25965662],\n",
       "       [1.26850948],\n",
       "       [1.28906323],\n",
       "       [1.29683319],\n",
       "       [1.33444721],\n",
       "       [1.33948904],\n",
       "       [1.34210552],\n",
       "       [1.34868943],\n",
       "       [1.3320259 ],\n",
       "       [1.34141923],\n",
       "       [1.36507402],\n",
       "       [1.36794784],\n",
       "       [1.35879038],\n",
       "       [1.36005575],\n",
       "       [1.35990561],\n",
       "       [1.28453385],\n",
       "       [1.30732015],\n",
       "       [1.30982942],\n",
       "       [1.271632  ],\n",
       "       [1.26884615],\n",
       "       [1.30734162],\n",
       "       [1.31083731],\n",
       "       [1.30757749],\n",
       "       [1.30890713],\n",
       "       [1.32023064],\n",
       "       [1.33590761],\n",
       "       [1.28224985],\n",
       "       [1.27036885],\n",
       "       [1.2457275 ],\n",
       "       [1.23455413],\n",
       "       [1.20858313],\n",
       "       [1.20980557],\n",
       "       [1.21073624],\n",
       "       [1.22488199],\n",
       "       [1.24384025],\n",
       "       [1.24609205],\n",
       "       [1.27798213],\n",
       "       [1.29546062],\n",
       "       [1.30073623],\n",
       "       [1.30895006],\n",
       "       [1.32460556],\n",
       "       [1.33532853],\n",
       "       [1.34146216],\n",
       "       [1.33573601],\n",
       "       [1.36355145],\n",
       "       [1.30671973],\n",
       "       [1.29664012],\n",
       "       [1.28973459],\n",
       "       [1.27268505],\n",
       "       [1.27217037],\n",
       "       [1.25899612],\n",
       "       [1.24860118],\n",
       "       [1.24782916],\n",
       "       [1.2436837 ],\n",
       "       [1.24667113],\n",
       "       [1.25549401],\n",
       "       [1.23440399],\n",
       "       [1.21999239],\n",
       "       [1.21681843],\n",
       "       [1.23159039],\n",
       "       [1.23562642],\n",
       "       [1.24881572],\n",
       "       [1.23629124],\n",
       "       [1.21144621],\n",
       "       [1.20656721],\n",
       "       [1.23414665],\n",
       "       [1.24287516],\n",
       "       [1.24482681],\n",
       "       [1.23349256],\n",
       "       [1.21996019],\n",
       "       [1.2287209 ],\n",
       "       [1.24478165],\n",
       "       [1.26871748],\n",
       "       [1.26978977],\n",
       "       [1.25803745],\n",
       "       [1.24498755],\n",
       "       [1.25677208],\n",
       "       [1.25801598],\n",
       "       [1.26099699],\n",
       "       [1.25048843],\n",
       "       [1.25857359],\n",
       "       [1.24896586],\n",
       "       [1.23549775],\n",
       "       [1.22604015],\n",
       "       [1.22676924],\n",
       "       [1.25134633],\n",
       "       [1.25702955],\n",
       "       [1.25316918],\n",
       "       [1.23530481],\n",
       "       [1.24478388],\n",
       "       [1.28570275],\n",
       "       [1.28739693],\n",
       "       [1.30690416],\n",
       "       [1.3128103 ],\n",
       "       [1.3030739 ],\n",
       "       [1.30819951],\n",
       "       [1.33076054],\n",
       "       [1.34909691],\n",
       "       [1.36188934],\n",
       "       [1.35362197],\n",
       "       [1.37322358],\n",
       "       [1.38053659],\n",
       "       [1.38716344],\n",
       "       [1.38007976],\n",
       "       [1.38551206],\n",
       "       [1.38611248],\n",
       "       [1.36929894],\n",
       "       [1.37384547],\n",
       "       [1.37067151],\n",
       "       [1.33359141],\n",
       "       [1.34186964],\n",
       "       [1.3665538 ],\n",
       "       [1.49692369],\n",
       "       [1.44669723],\n",
       "       [1.44461704],\n",
       "       [1.45677697],\n",
       "       [1.45338835],\n",
       "       [1.46316782],\n",
       "       [1.46792875],\n",
       "       [1.46599857],\n",
       "       [1.48648372],\n",
       "       [1.4660415 ],\n",
       "       [1.45911451],\n",
       "       [1.46087296],\n",
       "       [1.45064347],\n",
       "       [1.44480998],\n",
       "       [1.47018068],\n",
       "       [1.46696379],\n",
       "       [1.44163602],\n",
       "       [1.46844343],\n",
       "       [1.47830013],\n",
       "       [1.485746  ],\n",
       "       [1.51208585],\n",
       "       [1.52691579],\n",
       "       [1.48768037],\n",
       "       [1.45424624],\n",
       "       [1.44137868],\n",
       "       [1.4276747 ],\n",
       "       [1.43734683],\n",
       "       [1.44669723],\n",
       "       [1.46657765],\n",
       "       [1.48332705],\n",
       "       [1.48708008],\n",
       "       [1.5010414 ],\n",
       "       [1.49322432],\n",
       "       [1.51860549],\n",
       "       [1.53816417],\n",
       "       [1.56147589],\n",
       "       [1.55793726],\n",
       "       [1.55051705],\n",
       "       [1.54183134],\n",
       "       [1.53082957],\n",
       "       [1.52207972],\n",
       "       [1.51832669],\n",
       "       [1.51056327],\n",
       "       [1.49973297]])"
      ]
     },
     "execution_count": 100,
     "metadata": {},
     "output_type": "execute_result"
    }
   ],
   "source": [
    "inputs = sc.transform(inputs)\n",
    "inputs"
   ]
  },
  {
   "cell_type": "code",
   "execution_count": 101,
   "id": "83194298",
   "metadata": {},
   "outputs": [
    {
     "name": "stdout",
     "output_type": "stream",
     "text": [
      "(251, 60)\n",
      "(251, 60, 1)\n"
     ]
    }
   ],
   "source": [
    "# Preparing for X_test and predicting for the prices\n",
    "\n",
    "X_test = []\n",
    "for i in range(60, len(inputs)):\n",
    "    X_test.append(inputs[i - 60:i,0])\n",
    "X_test = np.array(X_test)\n",
    "print(X_test.shape)\n",
    "X_test = np.expand_dims(X_test,2)\n",
    "print(X_test.shape)"
   ]
  },
  {
   "cell_type": "code",
   "execution_count": 103,
   "id": "1e171776",
   "metadata": {},
   "outputs": [],
   "source": [
    "predicted_stock_price = model.predict(X_test)\n",
    "predicted_stock_price = sc.inverse_transform(predicted_stock_price)"
   ]
  },
  {
   "cell_type": "code",
   "execution_count": 78,
   "id": "24eebcdd",
   "metadata": {},
   "outputs": [],
   "source": [
    "predicted_stock_price = sc.inverse_transform(predicted_stock_price)"
   ]
  },
  {
   "cell_type": "code",
   "execution_count": 104,
   "id": "1a721cbd",
   "metadata": {},
   "outputs": [
    {
     "data": {
      "image/png": "[encoded data removed]",
      "text/plain": [
       "<Figure size 432x288 with 1 Axes>"
      ]
     },
     "metadata": {},
     "output_type": "display_data"
    }
   ],
   "source": [
    "# Visualizing the plot for LSTM\n",
    "predictions_plot(testing_set, predicted_stock_price)"
   ]
  },
  {
   "cell_type": "code",
   "execution_count": 105,
   "id": "1e7fee75",
   "metadata": {},
   "outputs": [
    {
     "name": "stdout",
     "output_type": "stream",
     "text": [
      "[811.840027] [811.0219]\n"
     ]
    }
   ],
   "source": [
    "print(testing_set[25], predicted_stock_price[25])"
   ]
  },
  {
   "cell_type": "code",
   "execution_count": 107,
   "id": "37a7c8f8",
   "metadata": {},
   "outputs": [
    {
     "name": "stdout",
     "output_type": "stream",
     "text": [
      "[996.719971] [929.33075]\n"
     ]
    }
   ],
   "source": [
    "print(testing_set[200], predicted_stock_price[200])"
   ]
  },
  {
   "cell_type": "code",
   "execution_count": 106,
   "id": "5b3d1a9a",
   "metadata": {},
   "outputs": [
    {
     "name": "stdout",
     "output_type": "stream",
     "text": [
      "Root Mean Squared Error is 46.96188648915176.\n"
     ]
    }
   ],
   "source": [
    "# Evaluating the LSTM\n",
    "rmse_return(testing_set, predicted_stock_price)"
   ]
  },
  {
   "cell_type": "markdown",
   "id": "0c5170cf",
   "metadata": {},
   "source": [
    "## GRU - Gated Recurrent Units"
   ]
  },
  {
   "cell_type": "markdown",
   "id": "6664884e",
   "metadata": {},
   "source": [
    "In simple words, the GRU unit does not have to use a memory unit to control the flow of information like the LSTM unit. It can directly makes use of the all hidden states without any control. GRUs have fewer parameters and thus may train a bit faster or need less data to generalize. But, with large data, the LSTMs with higher expressiveness may lead to better results.\n",
    "\n",
    "They are almost similar to LSTMs except that they have two gates: reset gate and update gate. Reset gate determines how to combine new input to previous memory and update gate determines how much of the previous state to keep. Update gate in GRU is what input gate and forget gate were in LSTM. We don't have the second non linearity in GRU before calculating the output, neither they have the output gate."
   ]
  },
  {
   "cell_type": "markdown",
   "id": "25c08be1",
   "metadata": {},
   "source": [
    "### Create the GRU Model\n",
    " - **units - hidden layer dimension(no. of neurons)**\n",
    " - **return sequences - when True, returns the output of each time step. Default False, returns the last output** "
   ]
  },
  {
   "cell_type": "code",
   "execution_count": 12,
   "id": "04b5cb14",
   "metadata": {},
   "outputs": [],
   "source": [
    "from keras.layers import SimpleRNN"
   ]
  },
  {
   "cell_type": "code",
   "execution_count": 16,
   "id": "fe3df450",
   "metadata": {},
   "outputs": [],
   "source": [
    "# The RNN and GRU Architecture\n",
    "model = Sequential()\n",
    "model.add(SimpleRNN(50, return_sequences = True, input_shape = (X_train.shape[1],1), activation = 'tanh'))\n",
    "model.add(Dropout(rate = 0.2))\n",
    "model.add(SimpleRNN(50, return_sequences = True, input_shape = (X_train.shape[1],1), activation = 'tanh'))\n",
    "model.add(Dropout(rate = 0.2))\n",
    "\n",
    "# GRU Layer\n",
    "model.add(GRU(units = 50, return_sequences = True, input_shape = (X_train.shape[1],1), activation = 'tanh'))\n",
    "model.add(Dropout(rate = 0.2))\n",
    "# GRU 2nd layer\n",
    "model.add(GRU(units = 50, return_sequences = False,activation = 'tanh'))\n",
    "model.add(Dropout(rate = 0.2))\n",
    "\n",
    "# Adding the output layer\n",
    "model.add(Dense(units = 1))"
   ]
  },
  {
   "cell_type": "code",
   "execution_count": 17,
   "id": "73ce181a",
   "metadata": {},
   "outputs": [
    {
     "name": "stdout",
     "output_type": "stream",
     "text": [
      "Model: \"sequential_5\"\n",
      "_________________________________________________________________\n",
      " Layer (type)                Output Shape              Param #   \n",
      "=================================================================\n",
      " simple_rnn_6 (SimpleRNN)    (None, 60, 50)            2600      \n",
      "                                                                 \n",
      " dropout_8 (Dropout)         (None, 60, 50)            0         \n",
      "                                                                 \n",
      " simple_rnn_7 (SimpleRNN)    (None, 60, 50)            5050      \n",
      "                                                                 \n",
      " dropout_9 (Dropout)         (None, 60, 50)            0         \n",
      "                                                                 \n",
      " gru_2 (GRU)                 (None, 60, 50)            15300     \n",
      "                                                                 \n",
      " dropout_10 (Dropout)        (None, 60, 50)            0         \n",
      "                                                                 \n",
      " gru_3 (GRU)                 (None, 50)                15300     \n",
      "                                                                 \n",
      " dropout_11 (Dropout)        (None, 50)                0         \n",
      "                                                                 \n",
      " dense_1 (Dense)             (None, 1)                 51        \n",
      "                                                                 \n",
      "=================================================================\n",
      "Total params: 38,301\n",
      "Trainable params: 38,301\n",
      "Non-trainable params: 0\n",
      "_________________________________________________________________\n"
     ]
    }
   ],
   "source": [
    "model.summary()"
   ]
  },
  {
   "cell_type": "code",
   "execution_count": 43,
   "id": "4cb21cab",
   "metadata": {},
   "outputs": [],
   "source": [
    "# GRU Layer\n",
    "model1 = Sequential()\n",
    "model1.add(GRU(units = 120, return_sequences = True, input_shape = (X_train.shape[1],1), activation = 'tanh'))\n",
    "model1.add(Dropout(rate = 0.2))\n",
    "# GRU 2nd layer\n",
    "model1.add(GRU(units = 120, return_sequences = False,activation = 'tanh'))\n",
    "model1.add(Dropout(rate = 0.2))\n",
    "\n",
    "# Adding the output layer\n",
    "model1.add(Dense(units = 1))"
   ]
  },
  {
   "cell_type": "code",
   "execution_count": 44,
   "id": "53a19f94",
   "metadata": {},
   "outputs": [
    {
     "name": "stdout",
     "output_type": "stream",
     "text": [
      "Model: \"sequential_7\"\n",
      "_________________________________________________________________\n",
      " Layer (type)                Output Shape              Param #   \n",
      "=================================================================\n",
      " gru_7 (GRU)                 (None, 60, 120)           44280     \n",
      "                                                                 \n",
      " dropout_14 (Dropout)        (None, 60, 120)           0         \n",
      "                                                                 \n",
      " gru_8 (GRU)                 (None, 120)               87120     \n",
      "                                                                 \n",
      " dropout_15 (Dropout)        (None, 120)               0         \n",
      "                                                                 \n",
      " dense_3 (Dense)             (None, 1)                 121       \n",
      "                                                                 \n",
      "=================================================================\n",
      "Total params: 131,521\n",
      "Trainable params: 131,521\n",
      "Non-trainable params: 0\n",
      "_________________________________________________________________\n"
     ]
    }
   ],
   "source": [
    "model1.summary()"
   ]
  },
  {
   "cell_type": "markdown",
   "id": "0943b5cd",
   "metadata": {},
   "source": [
    "## Training the GRU Model\n",
    "There aren't definitive results on one optimization algorithm being \"better\" than another. The common wisdom (which needs to be taken with a pound of salt) has been that Adam requires less experimentation to get convergence on the first try than SGD and variants thereof. However, this is highly dataset/model dependent. More recently some groups have made the claim that despite training faster, models trained with Adam generalize worse to the validation or test sets. See https://arxiv.org/abs/1712.07628 for more information.\n",
    "\n",
    "Gradient descent optimization algorithms - nice blog - https://ruder.io/optimizing-gradient-descent/"
   ]
  },
  {
   "cell_type": "code",
   "execution_count": 45,
   "id": "bc1baf9a",
   "metadata": {},
   "outputs": [
    {
     "name": "stdout",
     "output_type": "stream",
     "text": [
      "Epoch 1/50\n",
      "7/7 [==============================] - 8s 282ms/step - loss: 0.1539\n",
      "Epoch 2/50\n",
      "7/7 [==============================] - 2s 281ms/step - loss: 0.0321\n",
      "Epoch 3/50\n",
      "7/7 [==============================] - 2s 278ms/step - loss: 0.0192\n",
      "Epoch 4/50\n",
      "7/7 [==============================] - 2s 263ms/step - loss: 0.0067\n",
      "Epoch 5/50\n",
      "7/7 [==============================] - 2s 272ms/step - loss: 0.0069\n",
      "Epoch 6/50\n",
      "7/7 [==============================] - 2s 265ms/step - loss: 0.0052\n",
      "Epoch 7/50\n",
      "7/7 [==============================] - 2s 266ms/step - loss: 0.0032\n",
      "Epoch 8/50\n",
      "7/7 [==============================] - 2s 274ms/step - loss: 0.0030\n",
      "Epoch 9/50\n",
      "7/7 [==============================] - 2s 267ms/step - loss: 0.0029\n",
      "Epoch 10/50\n",
      "7/7 [==============================] - 2s 256ms/step - loss: 0.0025\n",
      "Epoch 11/50\n",
      "7/7 [==============================] - 2s 247ms/step - loss: 0.0027\n",
      "Epoch 12/50\n",
      "7/7 [==============================] - 2s 263ms/step - loss: 0.0026\n",
      "Epoch 13/50\n",
      "7/7 [==============================] - 2s 267ms/step - loss: 0.0024\n",
      "Epoch 14/50\n",
      "7/7 [==============================] - 2s 264ms/step - loss: 0.0024\n",
      "Epoch 15/50\n",
      "7/7 [==============================] - 2s 267ms/step - loss: 0.0024\n",
      "Epoch 16/50\n",
      "7/7 [==============================] - 2s 258ms/step - loss: 0.0023\n",
      "Epoch 17/50\n",
      "7/7 [==============================] - 2s 266ms/step - loss: 0.0022\n",
      "Epoch 18/50\n",
      "7/7 [==============================] - 2s 258ms/step - loss: 0.0023\n",
      "Epoch 19/50\n",
      "7/7 [==============================] - 2s 265ms/step - loss: 0.0023\n",
      "Epoch 20/50\n",
      "7/7 [==============================] - 2s 262ms/step - loss: 0.0024\n",
      "Epoch 21/50\n",
      "7/7 [==============================] - 2s 265ms/step - loss: 0.0022\n",
      "Epoch 22/50\n",
      "7/7 [==============================] - 2s 269ms/step - loss: 0.0021\n",
      "Epoch 23/50\n",
      "7/7 [==============================] - 2s 266ms/step - loss: 0.0023\n",
      "Epoch 24/50\n",
      "7/7 [==============================] - 2s 263ms/step - loss: 0.0019\n",
      "Epoch 25/50\n",
      "7/7 [==============================] - 2s 266ms/step - loss: 0.0021\n",
      "Epoch 26/50\n",
      "7/7 [==============================] - 1s 191ms/step - loss: 0.0022\n",
      "Epoch 27/50\n",
      "7/7 [==============================] - 2s 269ms/step - loss: 0.0021\n",
      "Epoch 28/50\n",
      "7/7 [==============================] - 2s 262ms/step - loss: 0.0022\n",
      "Epoch 29/50\n",
      "7/7 [==============================] - 2s 278ms/step - loss: 0.0021\n",
      "Epoch 30/50\n",
      "7/7 [==============================] - 2s 273ms/step - loss: 0.0022\n",
      "Epoch 31/50\n",
      "7/7 [==============================] - 2s 266ms/step - loss: 0.0021\n",
      "Epoch 32/50\n",
      "7/7 [==============================] - 2s 269ms/step - loss: 0.0022\n",
      "Epoch 33/50\n",
      "7/7 [==============================] - 2s 277ms/step - loss: 0.0019\n",
      "Epoch 34/50\n",
      "7/7 [==============================] - 2s 268ms/step - loss: 0.0019\n",
      "Epoch 35/50\n",
      "7/7 [==============================] - 2s 251ms/step - loss: 0.0019\n",
      "Epoch 36/50\n",
      "7/7 [==============================] - 2s 243ms/step - loss: 0.0019\n",
      "Epoch 37/50\n",
      "7/7 [==============================] - 2s 265ms/step - loss: 0.0020\n",
      "Epoch 38/50\n",
      "7/7 [==============================] - 2s 253ms/step - loss: 0.0018\n",
      "Epoch 39/50\n",
      "7/7 [==============================] - 2s 221ms/step - loss: 0.0019\n",
      "Epoch 40/50\n",
      "7/7 [==============================] - 2s 244ms/step - loss: 0.0019\n",
      "Epoch 41/50\n",
      "7/7 [==============================] - 2s 254ms/step - loss: 0.0018\n",
      "Epoch 42/50\n",
      "7/7 [==============================] - 2s 271ms/step - loss: 0.0019\n",
      "Epoch 43/50\n",
      "7/7 [==============================] - 2s 251ms/step - loss: 0.0019\n",
      "Epoch 44/50\n",
      "7/7 [==============================] - 2s 241ms/step - loss: 0.0019\n",
      "Epoch 45/50\n",
      "7/7 [==============================] - 2s 258ms/step - loss: 0.0017\n",
      "Epoch 46/50\n",
      "7/7 [==============================] - 2s 265ms/step - loss: 0.0018\n",
      "Epoch 47/50\n",
      "7/7 [==============================] - 2s 265ms/step - loss: 0.0016\n",
      "Epoch 48/50\n",
      "7/7 [==============================] - 2s 244ms/step - loss: 0.0018\n",
      "Epoch 49/50\n",
      "7/7 [==============================] - 2s 229ms/step - loss: 0.0018\n",
      "Epoch 50/50\n",
      "7/7 [==============================] - 2s 216ms/step - loss: 0.0018\n"
     ]
    },
    {
     "data": {
      "text/plain": [
       "<keras.callbacks.History at 0x1d2ea516d90>"
      ]
     },
     "execution_count": 45,
     "metadata": {},
     "output_type": "execute_result"
    }
   ],
   "source": [
    "# Compiling the Gru\n",
    "model1.compile(optimizer = 'adam',loss = 'mean_squared_error')\n",
    "# fitting\n",
    "model1.fit(X_train, y_train, epochs = 50, batch_size = 150)"
   ]
  },
  {
   "cell_type": "markdown",
   "id": "9524d690",
   "metadata": {},
   "source": [
    "## Test the GRU Model\n",
    "* We use the previous 60 days’ stock prices to predict the next-day price\n",
    "* So, we need the 60 days’ price before the 1st date in the test dataset.\n",
    "* Accordingly, we create the input for prediction, index starting from the date 60 days before the first date in the test dataset."
   ]
  },
  {
   "cell_type": "code",
   "execution_count": 46,
   "id": "71f23bd2",
   "metadata": {},
   "outputs": [
    {
     "name": "stdout",
     "output_type": "stream",
     "text": [
      "1259 251\n",
      "(311,)\n",
      "(311, 1)\n"
     ]
    }
   ],
   "source": [
    "dataset_total = dataset[\"High\"]\n",
    "print(len(dataset_total),len(testing_set))\n",
    "inputs = dataset_total[len(dataset_total) - len(testing_set) - 60:].values  # last 60 values of train data+all values of test\n",
    "print(inputs.shape)\n",
    "inputs = inputs.reshape(-1,1)\n",
    "print(inputs.shape)"
   ]
  },
  {
   "cell_type": "code",
   "execution_count": 47,
   "id": "8fdfff99",
   "metadata": {},
   "outputs": [],
   "source": [
    "inputs = sc.transform(inputs)"
   ]
  },
  {
   "cell_type": "code",
   "execution_count": 38,
   "id": "d03e6561",
   "metadata": {
    "collapsed": true
   },
   "outputs": [
    {
     "data": {
      "text/plain": [
       "array([[0.92236571],\n",
       "       [0.92060712],\n",
       "       [0.94145264],\n",
       "       [0.94767201],\n",
       "       [0.9387719 ],\n",
       "       [0.92395268],\n",
       "       [0.92980751],\n",
       "       [0.93388216],\n",
       "       [0.96768097],\n",
       "       [0.97409328],\n",
       "       [0.97274218],\n",
       "       [0.96315591],\n",
       "       [0.99678311],\n",
       "       [1.        ],\n",
       "       [0.97919742],\n",
       "       [0.97171281],\n",
       "       [0.99744793],\n",
       "       [0.95749415],\n",
       "       [0.94168851],\n",
       "       [0.92487497],\n",
       "       [0.89978321],\n",
       "       [0.90066243],\n",
       "       [0.93246679],\n",
       "       [0.95486276],\n",
       "       [0.94541367],\n",
       "       [0.94529141],\n",
       "       [0.88011733],\n",
       "       [0.87383356],\n",
       "       [0.88791504],\n",
       "       [0.89208406],\n",
       "       [0.90568084],\n",
       "       [0.91061338],\n",
       "       [0.89924706],\n",
       "       [0.91481683],\n",
       "       [0.89620819],\n",
       "       [0.88916745],\n",
       "       [0.92032845],\n",
       "       [0.91811945],\n",
       "       [0.90630273],\n",
       "       [0.87812274],\n",
       "       [0.86557693],\n",
       "       [0.88680845],\n",
       "       [0.89738128],\n",
       "       [0.90280703],\n",
       "       [0.91743317],\n",
       "       [0.94155984],\n",
       "       [0.94546301],\n",
       "       [0.97362153],\n",
       "       [0.97280658],\n",
       "       [0.97066198],\n",
       "       [0.96606401],\n",
       "       [0.9592098 ],\n",
       "       [0.96133305],\n",
       "       [0.95709963],\n",
       "       [0.94990234],\n",
       "       [0.94865844],\n",
       "       [0.95963874],\n",
       "       [0.95185386],\n",
       "       [0.93405377],\n",
       "       [0.92729837],\n",
       "       [0.94198879],\n",
       "       [0.94565609],\n",
       "       [0.95239001],\n",
       "       [0.98117054],\n",
       "       [0.98560122],\n",
       "       [0.98380835],\n",
       "       [0.98170669],\n",
       "       [0.98007678],\n",
       "       [0.98829911],\n",
       "       [0.97954063],\n",
       "       [0.97753544],\n",
       "       [0.9845589 ],\n",
       "       [0.97904728],\n",
       "       [1.00898585],\n",
       "       [1.01977321],\n",
       "       [1.04094034],\n",
       "       [1.04572274],\n",
       "       [1.05419391],\n",
       "       [0.99819861],\n",
       "       [0.96690894],\n",
       "       [0.96678027],\n",
       "       [0.97001863],\n",
       "       [0.97709576],\n",
       "       [0.96780964],\n",
       "       [0.98674643],\n",
       "       [0.98962024],\n",
       "       [0.98708951],\n",
       "       [0.99693325],\n",
       "       [1.00917669],\n",
       "       [1.01355384],\n",
       "       [1.01355384],\n",
       "       [1.01655632],\n",
       "       [1.02442694],\n",
       "       [1.03596487],\n",
       "       [1.03553592],\n",
       "       [1.03384174],\n",
       "       [1.0264214 ],\n",
       "       [1.02963829],\n",
       "       [1.02543484],\n",
       "       [1.04198043],\n",
       "       [1.03823813],\n",
       "       [1.03148261],\n",
       "       [1.02616406],\n",
       "       [1.035879  ],\n",
       "       [1.04604448],\n",
       "       [1.05430111],\n",
       "       [1.06054182],\n",
       "       [1.06863771],\n",
       "       [1.06553876],\n",
       "       [1.06851977],\n",
       "       [1.07328071],\n",
       "       [1.07874952],\n",
       "       [1.0719296 ],\n",
       "       [1.07896393],\n",
       "       [1.04046846],\n",
       "       [1.01263168],\n",
       "       [1.01125911],\n",
       "       [1.01061576],\n",
       "       [1.01996615],\n",
       "       [1.03449583],\n",
       "       [1.03645808],\n",
       "       [1.03208316],\n",
       "       [1.05183478],\n",
       "       [1.03967497],\n",
       "       [1.0552662 ],\n",
       "       [1.04226998],\n",
       "       [1.0253169 ],\n",
       "       [1.02717196],\n",
       "       [1.02304796],\n",
       "       [1.021403  ],\n",
       "       [1.02080258],\n",
       "       [1.04518659],\n",
       "       [1.04771719],\n",
       "       [1.05477286],\n",
       "       [1.06116383],\n",
       "       [1.05833296],\n",
       "       [1.10030266],\n",
       "       [1.12507268],\n",
       "       [1.12732448],\n",
       "       [1.12593057],\n",
       "       [1.21482384],\n",
       "       [1.21231471],\n",
       "       [1.22323074],\n",
       "       [1.23895052],\n",
       "       [1.25574272],\n",
       "       [1.25353385],\n",
       "       [1.25787657],\n",
       "       [1.25910974],\n",
       "       [1.24731448],\n",
       "       [1.24845118],\n",
       "       [1.2504027 ],\n",
       "       [1.26071819],\n",
       "       [1.27114088],\n",
       "       [1.2630408 ],\n",
       "       [1.24982362],\n",
       "       [1.25965662],\n",
       "       [1.26850948],\n",
       "       [1.28906323],\n",
       "       [1.29683319],\n",
       "       [1.33444721],\n",
       "       [1.33948904],\n",
       "       [1.34210552],\n",
       "       [1.34868943],\n",
       "       [1.3320259 ],\n",
       "       [1.34141923],\n",
       "       [1.36507402],\n",
       "       [1.36794784],\n",
       "       [1.35879038],\n",
       "       [1.36005575],\n",
       "       [1.35990561],\n",
       "       [1.28453385],\n",
       "       [1.30732015],\n",
       "       [1.30982942],\n",
       "       [1.271632  ],\n",
       "       [1.26884615],\n",
       "       [1.30734162],\n",
       "       [1.31083731],\n",
       "       [1.30757749],\n",
       "       [1.30890713],\n",
       "       [1.32023064],\n",
       "       [1.33590761],\n",
       "       [1.28224985],\n",
       "       [1.27036885],\n",
       "       [1.2457275 ],\n",
       "       [1.23455413],\n",
       "       [1.20858313],\n",
       "       [1.20980557],\n",
       "       [1.21073624],\n",
       "       [1.22488199],\n",
       "       [1.24384025],\n",
       "       [1.24609205],\n",
       "       [1.27798213],\n",
       "       [1.29546062],\n",
       "       [1.30073623],\n",
       "       [1.30895006],\n",
       "       [1.32460556],\n",
       "       [1.33532853],\n",
       "       [1.34146216],\n",
       "       [1.33573601],\n",
       "       [1.36355145],\n",
       "       [1.30671973],\n",
       "       [1.29664012],\n",
       "       [1.28973459],\n",
       "       [1.27268505],\n",
       "       [1.27217037],\n",
       "       [1.25899612],\n",
       "       [1.24860118],\n",
       "       [1.24782916],\n",
       "       [1.2436837 ],\n",
       "       [1.24667113],\n",
       "       [1.25549401],\n",
       "       [1.23440399],\n",
       "       [1.21999239],\n",
       "       [1.21681843],\n",
       "       [1.23159039],\n",
       "       [1.23562642],\n",
       "       [1.24881572],\n",
       "       [1.23629124],\n",
       "       [1.21144621],\n",
       "       [1.20656721],\n",
       "       [1.23414665],\n",
       "       [1.24287516],\n",
       "       [1.24482681],\n",
       "       [1.23349256],\n",
       "       [1.21996019],\n",
       "       [1.2287209 ],\n",
       "       [1.24478165],\n",
       "       [1.26871748],\n",
       "       [1.26978977],\n",
       "       [1.25803745],\n",
       "       [1.24498755],\n",
       "       [1.25677208],\n",
       "       [1.25801598],\n",
       "       [1.26099699],\n",
       "       [1.25048843],\n",
       "       [1.25857359],\n",
       "       [1.24896586],\n",
       "       [1.23549775],\n",
       "       [1.22604015],\n",
       "       [1.22676924],\n",
       "       [1.25134633],\n",
       "       [1.25702955],\n",
       "       [1.25316918],\n",
       "       [1.23530481],\n",
       "       [1.24478388],\n",
       "       [1.28570275],\n",
       "       [1.28739693],\n",
       "       [1.30690416],\n",
       "       [1.3128103 ],\n",
       "       [1.3030739 ],\n",
       "       [1.30819951],\n",
       "       [1.33076054],\n",
       "       [1.34909691],\n",
       "       [1.36188934],\n",
       "       [1.35362197],\n",
       "       [1.37322358],\n",
       "       [1.38053659],\n",
       "       [1.38716344],\n",
       "       [1.38007976],\n",
       "       [1.38551206],\n",
       "       [1.38611248],\n",
       "       [1.36929894],\n",
       "       [1.37384547],\n",
       "       [1.37067151],\n",
       "       [1.33359141],\n",
       "       [1.34186964],\n",
       "       [1.3665538 ],\n",
       "       [1.49692369],\n",
       "       [1.44669723],\n",
       "       [1.44461704],\n",
       "       [1.45677697],\n",
       "       [1.45338835],\n",
       "       [1.46316782],\n",
       "       [1.46792875],\n",
       "       [1.46599857],\n",
       "       [1.48648372],\n",
       "       [1.4660415 ],\n",
       "       [1.45911451],\n",
       "       [1.46087296],\n",
       "       [1.45064347],\n",
       "       [1.44480998],\n",
       "       [1.47018068],\n",
       "       [1.46696379],\n",
       "       [1.44163602],\n",
       "       [1.46844343],\n",
       "       [1.47830013],\n",
       "       [1.485746  ],\n",
       "       [1.51208585],\n",
       "       [1.52691579],\n",
       "       [1.48768037],\n",
       "       [1.45424624],\n",
       "       [1.44137868],\n",
       "       [1.4276747 ],\n",
       "       [1.43734683],\n",
       "       [1.44669723],\n",
       "       [1.46657765],\n",
       "       [1.48332705],\n",
       "       [1.48708008],\n",
       "       [1.5010414 ],\n",
       "       [1.49322432],\n",
       "       [1.51860549],\n",
       "       [1.53816417],\n",
       "       [1.56147589],\n",
       "       [1.55793726],\n",
       "       [1.55051705],\n",
       "       [1.54183134],\n",
       "       [1.53082957],\n",
       "       [1.52207972],\n",
       "       [1.51832669],\n",
       "       [1.51056327],\n",
       "       [1.49973297]])"
      ]
     },
     "execution_count": 38,
     "metadata": {},
     "output_type": "execute_result"
    }
   ],
   "source": [
    "inputs"
   ]
  },
  {
   "cell_type": "code",
   "execution_count": 52,
   "id": "24e419fe",
   "metadata": {},
   "outputs": [
    {
     "data": {
      "text/plain": [
       "1008"
      ]
     },
     "execution_count": 52,
     "metadata": {},
     "output_type": "execute_result"
    }
   ],
   "source": [
    "len(training_set)"
   ]
  },
  {
   "cell_type": "code",
   "execution_count": 53,
   "id": "41f9628a",
   "metadata": {},
   "outputs": [
    {
     "data": {
      "text/plain": [
       "251"
      ]
     },
     "execution_count": 53,
     "metadata": {},
     "output_type": "execute_result"
    }
   ],
   "source": [
    "len(testing_set)"
   ]
  },
  {
   "cell_type": "code",
   "execution_count": 56,
   "id": "10550eef",
   "metadata": {},
   "outputs": [
    {
     "data": {
      "text/plain": [
       "1259"
      ]
     },
     "execution_count": 56,
     "metadata": {},
     "output_type": "execute_result"
    }
   ],
   "source": [
    "1008+251 #dataset_total"
   ]
  },
  {
   "cell_type": "code",
   "execution_count": 58,
   "id": "1c1f1495",
   "metadata": {},
   "outputs": [
    {
     "data": {
      "text/plain": [
       "948"
      ]
     },
     "execution_count": 58,
     "metadata": {},
     "output_type": "execute_result"
    }
   ],
   "source": [
    "1008- 60   # last 60 values of train data"
   ]
  },
  {
   "cell_type": "code",
   "execution_count": 59,
   "id": "f8aa1032",
   "metadata": {},
   "outputs": [
    {
     "data": {
      "text/plain": [
       "60"
      ]
     },
     "execution_count": 59,
     "metadata": {},
     "output_type": "execute_result"
    }
   ],
   "source": [
    "1008 - 948   # last 60 values of train data"
   ]
  },
  {
   "cell_type": "code",
   "execution_count": 61,
   "id": "0da12f68",
   "metadata": {},
   "outputs": [
    {
     "data": {
      "text/plain": [
       "311"
      ]
     },
     "execution_count": 61,
     "metadata": {},
     "output_type": "execute_result"
    }
   ],
   "source": [
    "60+251 # last 60 days + 251(len(testing data))"
   ]
  },
  {
   "cell_type": "code",
   "execution_count": 48,
   "id": "c5d6b682",
   "metadata": {},
   "outputs": [
    {
     "name": "stdout",
     "output_type": "stream",
     "text": [
      "(251, 60)\n",
      "(251, 60, 1)\n"
     ]
    }
   ],
   "source": [
    "# preparing the X_test and predicting the prices\n",
    "X_test = []\n",
    "for i in range(60, len(inputs)):\n",
    "    X_test.append(inputs[i-60:i,0])\n",
    "X_test = np.array(X_test)\n",
    "print(X_test.shape)\n",
    "X_test = np.expand_dims(X_test, 2)\n",
    "print(X_test.shape)"
   ]
  },
  {
   "cell_type": "code",
   "execution_count": 49,
   "id": "cc339bd5",
   "metadata": {},
   "outputs": [],
   "source": [
    "predicted_stock_price = model1.predict(X_test)\n",
    "predicted_stock_price = sc.inverse_transform(predicted_stock_price)"
   ]
  },
  {
   "cell_type": "code",
   "execution_count": 50,
   "id": "9c407d39",
   "metadata": {},
   "outputs": [
    {
     "data": {
      "image/png": "[encoded data removed]",
      "text/plain": [
       "<Figure size 432x288 with 1 Axes>"
      ]
     },
     "metadata": {},
     "output_type": "display_data"
    }
   ],
   "source": [
    "# Visualizing the results for GRU\n",
    "predictions_plot(testing_set, predicted_stock_price)"
   ]
  },
  {
   "cell_type": "code",
   "execution_count": 51,
   "id": "2c60cc1e",
   "metadata": {},
   "outputs": [
    {
     "name": "stdout",
     "output_type": "stream",
     "text": [
      "Root Mean Squared Error is 17.899186054444186.\n"
     ]
    }
   ],
   "source": [
    "# Evaluate the GRU\n",
    "rmse_return(testing_set, predicted_stock_price)"
   ]
  },
  {
   "cell_type": "markdown",
   "id": "71903111",
   "metadata": {},
   "source": [
    "### comparing to LSTM and RNN, GRU is good much better than lstm & rnn"
   ]
  },
  {
   "cell_type": "code",
   "execution_count": null,
   "id": "30e3279d",
   "metadata": {},
   "outputs": [],
   "source": [
    "# LSTM Model with another parameters and values\n",
    "# Lets see how accurate predictions with this"
   ]
  },
  {
   "cell_type": "code",
   "execution_count": 13,
   "id": "562d397f",
   "metadata": {},
   "outputs": [
    {
     "name": "stdout",
     "output_type": "stream",
     "text": [
      "Model: \"sequential_1\"\n",
      "_________________________________________________________________\n",
      " Layer (type)                Output Shape              Param #   \n",
      "=================================================================\n",
      " lstm_4 (LSTM)               (None, 60, 50)            10400     \n",
      "                                                                 \n",
      " dropout_4 (Dropout)         (None, 60, 50)            0         \n",
      "                                                                 \n",
      " lstm_5 (LSTM)               (None, 60, 50)            20200     \n",
      "                                                                 \n",
      " dropout_5 (Dropout)         (None, 60, 50)            0         \n",
      "                                                                 \n",
      " lstm_6 (LSTM)               (None, 60, 50)            20200     \n",
      "                                                                 \n",
      " dropout_6 (Dropout)         (None, 60, 50)            0         \n",
      "                                                                 \n",
      " lstm_7 (LSTM)               (None, 50)                20200     \n",
      "                                                                 \n",
      " dropout_7 (Dropout)         (None, 50)                0         \n",
      "                                                                 \n",
      " dense_1 (Dense)             (None, 1)                 51        \n",
      "                                                                 \n",
      "=================================================================\n",
      "Total params: 71,051\n",
      "Trainable params: 71,051\n",
      "Non-trainable params: 0\n",
      "_________________________________________________________________\n"
     ]
    }
   ],
   "source": [
    "model = Sequential()\n",
    "\n",
    "# Taking 50 neurons\n",
    "# Adding first Lstm Layer\n",
    "model.add(LSTM(units = 50, return_sequences = True, input_shape = (X_train.shape[1], 1)))  \n",
    "model.add(Dropout(rate = 0.2))\n",
    "\n",
    "# Adding 2nd Lstm Layer\n",
    "model.add(LSTM(units = 50, return_sequences = True))     #if return_seq is True we should add another layer if false dont add\n",
    "model.add(Dropout(rate = 0.2))\n",
    "\n",
    "# Adding 3rd Lstm Layer\n",
    "model.add(LSTM(units = 50, return_sequences = True))\n",
    "model.add(Dropout(rate = 0.2))\n",
    "\n",
    "# Adding 4th Lstm Layer\n",
    "model.add(LSTM(units = 50, return_sequences = False))\n",
    "model.add(Dropout(rate = 0.2))\n",
    "\n",
    "# Adding output Layer\n",
    "model.add(Dense(units = 1))\n",
    "\n",
    "model.summary()"
   ]
  },
  {
   "cell_type": "code",
   "execution_count": 92,
   "id": "7d28da6f",
   "metadata": {},
   "outputs": [
    {
     "name": "stdout",
     "output_type": "stream",
     "text": [
      "Model: \"sequential_5\"\n",
      "_________________________________________________________________\n",
      " Layer (type)                Output Shape              Param #   \n",
      "=================================================================\n",
      " lstm_20 (LSTM)              (None, 60, 50)            10400     \n",
      "                                                                 \n",
      " dropout_20 (Dropout)        (None, 60, 50)            0         \n",
      "                                                                 \n",
      " lstm_21 (LSTM)              (None, 60, 50)            20200     \n",
      "                                                                 \n",
      " dropout_21 (Dropout)        (None, 60, 50)            0         \n",
      "                                                                 \n",
      " lstm_22 (LSTM)              (None, 60, 50)            20200     \n",
      "                                                                 \n",
      " dropout_22 (Dropout)        (None, 60, 50)            0         \n",
      "                                                                 \n",
      " lstm_23 (LSTM)              (None, 50)                20200     \n",
      "                                                                 \n",
      " dropout_23 (Dropout)        (None, 50)                0         \n",
      "                                                                 \n",
      " dense_5 (Dense)             (None, 1)                 51        \n",
      "                                                                 \n",
      "=================================================================\n",
      "Total params: 71,051\n",
      "Trainable params: 71,051\n",
      "Non-trainable params: 0\n",
      "_________________________________________________________________\n"
     ]
    }
   ],
   "source": [
    "model0 = Sequential()\n",
    "\n",
    "# Taking 50 neurons\n",
    "# Adding first Lstm Layer\n",
    "model0.add(LSTM(units = 50, return_sequences = True, input_shape = (X_train.shape[1], 1)))  \n",
    "model0.add(Dropout(rate = 0.2))\n",
    "\n",
    "# Adding 2nd Lstm Layer\n",
    "model0.add(LSTM(units = 50, return_sequences = True))     #if return_seq is True we should add another layer if false dont add\n",
    "model0.add(Dropout(rate = 0.2))\n",
    "\n",
    "# Adding 3rd Lstm Layer\n",
    "model0.add(LSTM(units = 50, return_sequences = True))\n",
    "model0.add(Dropout(rate = 0.2))\n",
    "\n",
    "# Adding 4th Lstm Layer\n",
    "model0.add(LSTM(units = 50, return_sequences = False))\n",
    "model0.add(Dropout(rate = 0.2))\n",
    "\n",
    "# Adding output Layer\n",
    "model0.add(Dense(units = 1))\n",
    "\n",
    "model0.summary()"
   ]
  },
  {
   "cell_type": "code",
   "execution_count": 93,
   "id": "5de7474b",
   "metadata": {},
   "outputs": [
    {
     "name": "stdout",
     "output_type": "stream",
     "text": [
      "Epoch 1/50\n",
      "7/7 [==============================] - 72s 410ms/step - loss: 0.2598\n",
      "Epoch 2/50\n",
      "7/7 [==============================] - 2s 307ms/step - loss: 0.0380\n",
      "Epoch 3/50\n",
      "7/7 [==============================] - 3s 363ms/step - loss: 0.0349\n",
      "Epoch 4/50\n",
      "7/7 [==============================] - 3s 402ms/step - loss: 0.0183\n",
      "Epoch 5/50\n",
      "7/7 [==============================] - 3s 392ms/step - loss: 0.0139\n",
      "Epoch 6/50\n",
      "7/7 [==============================] - 3s 406ms/step - loss: 0.0113\n",
      "Epoch 7/50\n",
      "7/7 [==============================] - 3s 398ms/step - loss: 0.0080\n",
      "Epoch 8/50\n",
      "7/7 [==============================] - 3s 397ms/step - loss: 0.0071\n",
      "Epoch 9/50\n",
      "7/7 [==============================] - 3s 376ms/step - loss: 0.0067\n",
      "Epoch 10/50\n",
      "7/7 [==============================] - 3s 377ms/step - loss: 0.0069\n",
      "Epoch 11/50\n",
      "7/7 [==============================] - 3s 366ms/step - loss: 0.0062\n",
      "Epoch 12/50\n",
      "7/7 [==============================] - 3s 394ms/step - loss: 0.0064\n",
      "Epoch 13/50\n",
      "7/7 [==============================] - 3s 391ms/step - loss: 0.0065\n",
      "Epoch 14/50\n",
      "7/7 [==============================] - 3s 375ms/step - loss: 0.0062\n",
      "Epoch 15/50\n",
      "7/7 [==============================] - 3s 365ms/step - loss: 0.0064\n",
      "Epoch 16/50\n",
      "7/7 [==============================] - 3s 387ms/step - loss: 0.0058\n",
      "Epoch 17/50\n",
      "7/7 [==============================] - 3s 405ms/step - loss: 0.0065\n",
      "Epoch 18/50\n",
      "7/7 [==============================] - 3s 415ms/step - loss: 0.0060\n",
      "Epoch 19/50\n",
      "7/7 [==============================] - 3s 388ms/step - loss: 0.0062\n",
      "Epoch 20/50\n",
      "7/7 [==============================] - 3s 399ms/step - loss: 0.0058\n",
      "Epoch 21/50\n",
      "7/7 [==============================] - 3s 410ms/step - loss: 0.0055\n",
      "Epoch 22/50\n",
      "7/7 [==============================] - 3s 390ms/step - loss: 0.0059\n",
      "Epoch 23/50\n",
      "7/7 [==============================] - 3s 396ms/step - loss: 0.0061\n",
      "Epoch 24/50\n",
      "7/7 [==============================] - 3s 392ms/step - loss: 0.0063\n",
      "Epoch 25/50\n",
      "7/7 [==============================] - 3s 398ms/step - loss: 0.0065\n",
      "Epoch 26/50\n",
      "7/7 [==============================] - 3s 390ms/step - loss: 0.0065\n",
      "Epoch 27/50\n",
      "7/7 [==============================] - 3s 403ms/step - loss: 0.0058\n",
      "Epoch 28/50\n",
      "7/7 [==============================] - 3s 396ms/step - loss: 0.0057\n",
      "Epoch 29/50\n",
      "7/7 [==============================] - 3s 405ms/step - loss: 0.0050\n",
      "Epoch 30/50\n",
      "7/7 [==============================] - 3s 393ms/step - loss: 0.0059\n",
      "Epoch 31/50\n",
      "7/7 [==============================] - 3s 402ms/step - loss: 0.0056\n",
      "Epoch 32/50\n",
      "7/7 [==============================] - 3s 414ms/step - loss: 0.0059\n",
      "Epoch 33/50\n",
      "7/7 [==============================] - 3s 397ms/step - loss: 0.0057\n",
      "Epoch 34/50\n",
      "7/7 [==============================] - 3s 390ms/step - loss: 0.0055\n",
      "Epoch 35/50\n",
      "7/7 [==============================] - 3s 389ms/step - loss: 0.0060\n",
      "Epoch 36/50\n",
      "7/7 [==============================] - 2s 332ms/step - loss: 0.0052\n",
      "Epoch 37/50\n",
      "7/7 [==============================] - 3s 411ms/step - loss: 0.0052\n",
      "Epoch 38/50\n",
      "7/7 [==============================] - 3s 393ms/step - loss: 0.0055\n",
      "Epoch 39/50\n",
      "7/7 [==============================] - 2s 350ms/step - loss: 0.0051\n",
      "Epoch 40/50\n",
      "7/7 [==============================] - 3s 371ms/step - loss: 0.0053\n",
      "Epoch 41/50\n",
      "7/7 [==============================] - 3s 405ms/step - loss: 0.0048\n",
      "Epoch 42/50\n",
      "7/7 [==============================] - 3s 377ms/step - loss: 0.0049\n",
      "Epoch 43/50\n",
      "7/7 [==============================] - 3s 412ms/step - loss: 0.0049\n",
      "Epoch 44/50\n",
      "7/7 [==============================] - 3s 382ms/step - loss: 0.0049\n",
      "Epoch 45/50\n",
      "7/7 [==============================] - 3s 384ms/step - loss: 0.0048\n",
      "Epoch 46/50\n",
      "7/7 [==============================] - 3s 414ms/step - loss: 0.0051\n",
      "Epoch 47/50\n",
      "7/7 [==============================] - 3s 392ms/step - loss: 0.0048\n",
      "Epoch 48/50\n",
      "7/7 [==============================] - 3s 402ms/step - loss: 0.0051\n",
      "Epoch 49/50\n",
      "7/7 [==============================] - 3s 411ms/step - loss: 0.0046\n",
      "Epoch 50/50\n",
      "7/7 [==============================] - 3s 374ms/step - loss: 0.0044\n"
     ]
    },
    {
     "data": {
      "text/plain": [
       "<keras.callbacks.History at 0x1fc788c17c0>"
      ]
     },
     "execution_count": 93,
     "metadata": {},
     "output_type": "execute_result"
    }
   ],
   "source": [
    "model0.compile(optimizer='adam',loss='mean_squared_error')\n",
    "model0.fit(X_train,y_train,epochs=50,batch_size=150)"
   ]
  },
  {
   "cell_type": "code",
   "execution_count": 17,
   "id": "1cd236d1",
   "metadata": {},
   "outputs": [
    {
     "name": "stdout",
     "output_type": "stream",
     "text": [
      "1259 251\n",
      "(311,)\n",
      "(311, 1)\n"
     ]
    }
   ],
   "source": [
    "# dataset_total = pd.concat((dataset[\"High\"][:'2017'],dataset[\"High\"]['2017':]),axis=0)\n",
    "dataset_total = dataset[\"High\"]\n",
    "inputs = dataset_total[len(dataset_total)-len(testing_set) - 60:].values ## last 60 values of train_data + all values of test_data\n",
    "print(len(dataset_total), len(testing_set))\n",
    "print(inputs.shape)\n",
    "inputs = inputs.reshape(-1,1)\n",
    "print(inputs.shape)\n",
    "inputs  = sc.transform(inputs)"
   ]
  },
  {
   "cell_type": "code",
   "execution_count": 20,
   "id": "3908f55e",
   "metadata": {},
   "outputs": [
    {
     "data": {
      "text/plain": [
       "1259"
      ]
     },
     "execution_count": 20,
     "metadata": {},
     "output_type": "execute_result"
    }
   ],
   "source": [
    "len(dataset_total)"
   ]
  },
  {
   "cell_type": "code",
   "execution_count": 21,
   "id": "32a2e3ae",
   "metadata": {},
   "outputs": [
    {
     "data": {
      "text/plain": [
       "1008"
      ]
     },
     "execution_count": 21,
     "metadata": {},
     "output_type": "execute_result"
    }
   ],
   "source": [
    "len(training_set)"
   ]
  },
  {
   "cell_type": "code",
   "execution_count": 22,
   "id": "a82e76e2",
   "metadata": {},
   "outputs": [
    {
     "data": {
      "text/plain": [
       "251"
      ]
     },
     "execution_count": 22,
     "metadata": {},
     "output_type": "execute_result"
    }
   ],
   "source": [
    "len(testing_set)"
   ]
  },
  {
   "cell_type": "code",
   "execution_count": 23,
   "id": "324e857a",
   "metadata": {},
   "outputs": [
    {
     "data": {
      "text/plain": [
       "311"
      ]
     },
     "execution_count": 23,
     "metadata": {},
     "output_type": "execute_result"
    }
   ],
   "source": [
    "#Condition we have taken is: last 60 values of train data and plus all values of testing data\n",
    "60+251"
   ]
  },
  {
   "cell_type": "code",
   "execution_count": 94,
   "id": "c0dc5675",
   "metadata": {},
   "outputs": [
    {
     "name": "stdout",
     "output_type": "stream",
     "text": [
      "1259 251\n",
      "(341,)\n",
      "(341, 1)\n"
     ]
    }
   ],
   "source": [
    "# Now Im here taking last 210 values from training set and all testing values\n",
    "dataset_total = dataset[\"High\"]\n",
    "inputs = dataset_total[len(dataset_total)-len(testing_set) - 90:].values #last 90 values of train_data + all values of test_data\n",
    "print(len(dataset_total), len(testing_set))\n",
    "print(inputs.shape)\n",
    "inputs = inputs.reshape(-1,1)\n",
    "print(inputs.shape)\n",
    "inputs  = sc.transform(inputs)"
   ]
  },
  {
   "cell_type": "code",
   "execution_count": 80,
   "id": "2487882a",
   "metadata": {},
   "outputs": [
    {
     "data": {
      "text/plain": [
       "341"
      ]
     },
     "execution_count": 80,
     "metadata": {},
     "output_type": "execute_result"
    }
   ],
   "source": [
    "input = 90 ( last 90 values from training) + 251 (all testing values)"
   ]
  },
  {
   "cell_type": "code",
   "execution_count": 106,
   "id": "c75c1efd",
   "metadata": {
    "scrolled": true
   },
   "outputs": [
    {
     "name": "stdout",
     "output_type": "stream",
     "text": [
      "(281, 58)\n",
      "(281, 58, 1)\n"
     ]
    }
   ],
   "source": [
    "# Preparing X_test and predicting the prices\n",
    "X_test = []\n",
    "for i in range(60,len(inputs)):\n",
    "    X_test.append(inputs[i-58:i,0])\n",
    "X_test = np.array(X_test)\n",
    "print(X_test.shape)\n",
    "#X_test = np.reshape(X_test, (X_test.shape[0],X_test.shape[1],1))\n",
    "X_test = np.expand_dims(X_test, 2)\n",
    "print(X_test.shape)"
   ]
  },
  {
   "cell_type": "code",
   "execution_count": 107,
   "id": "d4793f85",
   "metadata": {},
   "outputs": [
    {
     "data": {
      "text/plain": [
       "281"
      ]
     },
     "execution_count": 107,
     "metadata": {},
     "output_type": "execute_result"
    }
   ],
   "source": [
    "341 - 60"
   ]
  },
  {
   "cell_type": "code",
   "execution_count": 108,
   "id": "b751036e",
   "metadata": {},
   "outputs": [],
   "source": [
    "#testing_set, our condition as per last 210 values we are taking and 1 "
   ]
  },
  {
   "cell_type": "code",
   "execution_count": 109,
   "id": "5c9d1ba6",
   "metadata": {},
   "outputs": [],
   "source": [
    "predicted_stock_price = model0.predict(X_test)\n",
    "predicted_stock_price = sc.inverse_transform(predicted_stock_price)"
   ]
  },
  {
   "cell_type": "code",
   "execution_count": 110,
   "id": "0fca46ef",
   "metadata": {},
   "outputs": [
    {
     "data": {
      "image/png": "[encoded data removed]",
      "text/plain": [
       "<Figure size 432x288 with 1 Axes>"
      ]
     },
     "metadata": {},
     "output_type": "display_data"
    }
   ],
   "source": [
    "# Visualizing the results for GRU\n",
    "predictions_plot(testing_set,predicted_stock_price)"
   ]
  },
  {
   "cell_type": "code",
   "execution_count": 111,
   "id": "a9f49218",
   "metadata": {},
   "outputs": [
    {
     "name": "stdout",
     "output_type": "stream",
     "text": [
      "[811.840027] [791.70184]\n"
     ]
    }
   ],
   "source": [
    "print(testing_set[25],predicted_stock_price[25])"
   ]
  },
  {
   "cell_type": "code",
   "execution_count": 112,
   "id": "23ff4c08",
   "metadata": {
    "collapsed": true
   },
   "outputs": [
    {
     "ename": "ValueError",
     "evalue": "Found input variables with inconsistent numbers of samples: [251, 281]",
     "output_type": "error",
     "traceback": [
      "\u001b[1;31m---------------------------------------------------------------------------\u001b[0m",
      "\u001b[1;31mValueError\u001b[0m                                Traceback (most recent call last)",
      "Input \u001b[1;32mIn [112]\u001b[0m, in \u001b[0;36m<cell line: 2>\u001b[1;34m()\u001b[0m\n\u001b[0;32m      1\u001b[0m \u001b[38;5;66;03m# Evaluating GRU\u001b[39;00m\n\u001b[1;32m----> 2\u001b[0m \u001b[43mrmse_return\u001b[49m\u001b[43m(\u001b[49m\u001b[43mtesting_set\u001b[49m\u001b[43m,\u001b[49m\u001b[43mpredicted_stock_price\u001b[49m\u001b[43m)\u001b[49m\n",
      "Input \u001b[1;32mIn [2]\u001b[0m, in \u001b[0;36mrmse_return\u001b[1;34m(test, predicted)\u001b[0m\n\u001b[0;32m     11\u001b[0m \u001b[38;5;28;01mdef\u001b[39;00m \u001b[38;5;21mrmse_return\u001b[39m(test, predicted):\n\u001b[1;32m---> 12\u001b[0m     rmse \u001b[38;5;241m=\u001b[39m math\u001b[38;5;241m.\u001b[39msqrt(\u001b[43mmean_squared_error\u001b[49m\u001b[43m(\u001b[49m\u001b[43mtest\u001b[49m\u001b[43m,\u001b[49m\u001b[43m \u001b[49m\u001b[43mpredicted\u001b[49m\u001b[43m)\u001b[49m)\n\u001b[0;32m     13\u001b[0m     \u001b[38;5;28mprint\u001b[39m(\u001b[38;5;124m\"\u001b[39m\u001b[38;5;124mRoot Mean Squared Error is \u001b[39m\u001b[38;5;132;01m{}\u001b[39;00m\u001b[38;5;124m.\u001b[39m\u001b[38;5;124m\"\u001b[39m\u001b[38;5;241m.\u001b[39mformat(rmse))\n",
      "File \u001b[1;32mC:\\Anaconda\\lib\\site-packages\\sklearn\\utils\\validation.py:63\u001b[0m, in \u001b[0;36m_deprecate_positional_args.<locals>._inner_deprecate_positional_args.<locals>.inner_f\u001b[1;34m(*args, **kwargs)\u001b[0m\n\u001b[0;32m     61\u001b[0m extra_args \u001b[38;5;241m=\u001b[39m \u001b[38;5;28mlen\u001b[39m(args) \u001b[38;5;241m-\u001b[39m \u001b[38;5;28mlen\u001b[39m(all_args)\n\u001b[0;32m     62\u001b[0m \u001b[38;5;28;01mif\u001b[39;00m extra_args \u001b[38;5;241m<\u001b[39m\u001b[38;5;241m=\u001b[39m \u001b[38;5;241m0\u001b[39m:\n\u001b[1;32m---> 63\u001b[0m     \u001b[38;5;28;01mreturn\u001b[39;00m f(\u001b[38;5;241m*\u001b[39margs, \u001b[38;5;241m*\u001b[39m\u001b[38;5;241m*\u001b[39mkwargs)\n\u001b[0;32m     65\u001b[0m \u001b[38;5;66;03m# extra_args > 0\u001b[39;00m\n\u001b[0;32m     66\u001b[0m args_msg \u001b[38;5;241m=\u001b[39m [\u001b[38;5;124m'\u001b[39m\u001b[38;5;132;01m{}\u001b[39;00m\u001b[38;5;124m=\u001b[39m\u001b[38;5;132;01m{}\u001b[39;00m\u001b[38;5;124m'\u001b[39m\u001b[38;5;241m.\u001b[39mformat(name, arg)\n\u001b[0;32m     67\u001b[0m             \u001b[38;5;28;01mfor\u001b[39;00m name, arg \u001b[38;5;129;01min\u001b[39;00m \u001b[38;5;28mzip\u001b[39m(kwonly_args[:extra_args],\n\u001b[0;32m     68\u001b[0m                                  args[\u001b[38;5;241m-\u001b[39mextra_args:])]\n",
      "File \u001b[1;32mC:\\Anaconda\\lib\\site-packages\\sklearn\\metrics\\_regression.py:335\u001b[0m, in \u001b[0;36mmean_squared_error\u001b[1;34m(y_true, y_pred, sample_weight, multioutput, squared)\u001b[0m\n\u001b[0;32m    274\u001b[0m \u001b[38;5;129m@_deprecate_positional_args\u001b[39m\n\u001b[0;32m    275\u001b[0m \u001b[38;5;28;01mdef\u001b[39;00m \u001b[38;5;21mmean_squared_error\u001b[39m(y_true, y_pred, \u001b[38;5;241m*\u001b[39m,\n\u001b[0;32m    276\u001b[0m                        sample_weight\u001b[38;5;241m=\u001b[39m\u001b[38;5;28;01mNone\u001b[39;00m,\n\u001b[0;32m    277\u001b[0m                        multioutput\u001b[38;5;241m=\u001b[39m\u001b[38;5;124m'\u001b[39m\u001b[38;5;124muniform_average\u001b[39m\u001b[38;5;124m'\u001b[39m, squared\u001b[38;5;241m=\u001b[39m\u001b[38;5;28;01mTrue\u001b[39;00m):\n\u001b[0;32m    278\u001b[0m     \u001b[38;5;124;03m\"\"\"Mean squared error regression loss.\u001b[39;00m\n\u001b[0;32m    279\u001b[0m \n\u001b[0;32m    280\u001b[0m \u001b[38;5;124;03m    Read more in the :ref:`User Guide <mean_squared_error>`.\u001b[39;00m\n\u001b[1;32m   (...)\u001b[0m\n\u001b[0;32m    333\u001b[0m \u001b[38;5;124;03m    0.825...\u001b[39;00m\n\u001b[0;32m    334\u001b[0m \u001b[38;5;124;03m    \"\"\"\u001b[39;00m\n\u001b[1;32m--> 335\u001b[0m     y_type, y_true, y_pred, multioutput \u001b[38;5;241m=\u001b[39m \u001b[43m_check_reg_targets\u001b[49m\u001b[43m(\u001b[49m\n\u001b[0;32m    336\u001b[0m \u001b[43m        \u001b[49m\u001b[43my_true\u001b[49m\u001b[43m,\u001b[49m\u001b[43m \u001b[49m\u001b[43my_pred\u001b[49m\u001b[43m,\u001b[49m\u001b[43m \u001b[49m\u001b[43mmultioutput\u001b[49m\u001b[43m)\u001b[49m\n\u001b[0;32m    337\u001b[0m     check_consistent_length(y_true, y_pred, sample_weight)\n\u001b[0;32m    338\u001b[0m     output_errors \u001b[38;5;241m=\u001b[39m np\u001b[38;5;241m.\u001b[39maverage((y_true \u001b[38;5;241m-\u001b[39m y_pred) \u001b[38;5;241m*\u001b[39m\u001b[38;5;241m*\u001b[39m \u001b[38;5;241m2\u001b[39m, axis\u001b[38;5;241m=\u001b[39m\u001b[38;5;241m0\u001b[39m,\n\u001b[0;32m    339\u001b[0m                                weights\u001b[38;5;241m=\u001b[39msample_weight)\n",
      "File \u001b[1;32mC:\\Anaconda\\lib\\site-packages\\sklearn\\metrics\\_regression.py:88\u001b[0m, in \u001b[0;36m_check_reg_targets\u001b[1;34m(y_true, y_pred, multioutput, dtype)\u001b[0m\n\u001b[0;32m     54\u001b[0m \u001b[38;5;28;01mdef\u001b[39;00m \u001b[38;5;21m_check_reg_targets\u001b[39m(y_true, y_pred, multioutput, dtype\u001b[38;5;241m=\u001b[39m\u001b[38;5;124m\"\u001b[39m\u001b[38;5;124mnumeric\u001b[39m\u001b[38;5;124m\"\u001b[39m):\n\u001b[0;32m     55\u001b[0m     \u001b[38;5;124;03m\"\"\"Check that y_true and y_pred belong to the same regression task.\u001b[39;00m\n\u001b[0;32m     56\u001b[0m \n\u001b[0;32m     57\u001b[0m \u001b[38;5;124;03m    Parameters\u001b[39;00m\n\u001b[1;32m   (...)\u001b[0m\n\u001b[0;32m     86\u001b[0m \u001b[38;5;124;03m        the dtype argument passed to check_array.\u001b[39;00m\n\u001b[0;32m     87\u001b[0m \u001b[38;5;124;03m    \"\"\"\u001b[39;00m\n\u001b[1;32m---> 88\u001b[0m     \u001b[43mcheck_consistent_length\u001b[49m\u001b[43m(\u001b[49m\u001b[43my_true\u001b[49m\u001b[43m,\u001b[49m\u001b[43m \u001b[49m\u001b[43my_pred\u001b[49m\u001b[43m)\u001b[49m\n\u001b[0;32m     89\u001b[0m     y_true \u001b[38;5;241m=\u001b[39m check_array(y_true, ensure_2d\u001b[38;5;241m=\u001b[39m\u001b[38;5;28;01mFalse\u001b[39;00m, dtype\u001b[38;5;241m=\u001b[39mdtype)\n\u001b[0;32m     90\u001b[0m     y_pred \u001b[38;5;241m=\u001b[39m check_array(y_pred, ensure_2d\u001b[38;5;241m=\u001b[39m\u001b[38;5;28;01mFalse\u001b[39;00m, dtype\u001b[38;5;241m=\u001b[39mdtype)\n",
      "File \u001b[1;32mC:\\Anaconda\\lib\\site-packages\\sklearn\\utils\\validation.py:319\u001b[0m, in \u001b[0;36mcheck_consistent_length\u001b[1;34m(*arrays)\u001b[0m\n\u001b[0;32m    317\u001b[0m uniques \u001b[38;5;241m=\u001b[39m np\u001b[38;5;241m.\u001b[39munique(lengths)\n\u001b[0;32m    318\u001b[0m \u001b[38;5;28;01mif\u001b[39;00m \u001b[38;5;28mlen\u001b[39m(uniques) \u001b[38;5;241m>\u001b[39m \u001b[38;5;241m1\u001b[39m:\n\u001b[1;32m--> 319\u001b[0m     \u001b[38;5;28;01mraise\u001b[39;00m \u001b[38;5;167;01mValueError\u001b[39;00m(\u001b[38;5;124m\"\u001b[39m\u001b[38;5;124mFound input variables with inconsistent numbers of\u001b[39m\u001b[38;5;124m\"\u001b[39m\n\u001b[0;32m    320\u001b[0m                      \u001b[38;5;124m\"\u001b[39m\u001b[38;5;124m samples: \u001b[39m\u001b[38;5;132;01m%r\u001b[39;00m\u001b[38;5;124m\"\u001b[39m \u001b[38;5;241m%\u001b[39m [\u001b[38;5;28mint\u001b[39m(l) \u001b[38;5;28;01mfor\u001b[39;00m l \u001b[38;5;129;01min\u001b[39;00m lengths])\n",
      "\u001b[1;31mValueError\u001b[0m: Found input variables with inconsistent numbers of samples: [251, 281]"
     ]
    }
   ],
   "source": [
    "# Evaluating GRU\n",
    "rmse_return(testing_set,predicted_stock_price)"
   ]
  },
  {
   "cell_type": "code",
   "execution_count": null,
   "id": "a0547a8c",
   "metadata": {},
   "outputs": [],
   "source": []
  }
 ],
 "metadata": {
  "kernelspec": {
   "display_name": "Python 3 (ipykernel)",
   "language": "python",
   "name": "python3"
  },
  "language_info": {
   "codemirror_mode": {
    "name": "ipython",
    "version": 3
   },
   "file_extension": ".py",
   "mimetype": "text/x-python",
   "name": "python",
   "nbconvert_exporter": "python",
   "pygments_lexer": "ipython3",
   "version": "3.9.12"
  }
 },
 "nbformat": 4,
 "nbformat_minor": 5
}
