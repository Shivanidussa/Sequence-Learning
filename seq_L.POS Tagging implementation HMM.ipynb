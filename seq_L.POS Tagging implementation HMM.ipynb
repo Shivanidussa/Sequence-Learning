{
 "cells": [
  {
   "cell_type": "markdown",
   "id": "e8a6462c",
   "metadata": {},
   "source": [
    "# POS Tagging Using Hidden Markov Model\n",
    "- **Hiddden Markov Model is a chain of invisible state. Each state emits observable outputs**"
   ]
  },
  {
   "cell_type": "code",
   "execution_count": 1,
   "id": "4b6ffbe3",
   "metadata": {},
   "outputs": [],
   "source": [
    "import numpy as np\n",
    "from collections import Counter, defaultdict\n",
    "import pomegranate\n",
    "from pomegranate import State, HiddenMarkovModel, DiscreteDistribution\n",
    "from pprint import pprint"
   ]
  },
  {
   "cell_type": "code",
   "execution_count": 2,
   "id": "4a3db096",
   "metadata": {},
   "outputs": [],
   "source": [
    "# Training the data\n",
    "sent1 = \"venkat plays in parks\"\n",
    "sent1_pos = \"NOUN VERB MODIFIER NOUN\"\n",
    "sent2 = \"Robert parks car at nights\"\n",
    "sent2_pos = \"NOUN VERB NOUN MODIFIER NOUN\""
   ]
  },
  {
   "cell_type": "code",
   "execution_count": 3,
   "id": "bd2d786c",
   "metadata": {},
   "outputs": [],
   "source": [
    "s1 = sent1.split()  # splitting the words from a sentence\n",
    "s2 = sent2.split()\n",
    "s1_pos = sent1_pos.split()\n",
    "s2_pos = sent2_pos.split()"
   ]
  },
  {
   "cell_type": "code",
   "execution_count": 4,
   "id": "661be334",
   "metadata": {},
   "outputs": [
    {
     "name": "stdout",
     "output_type": "stream",
     "text": [
      "['venkat', 'plays', 'in', 'parks']\n",
      "['NOUN', 'VERB', 'MODIFIER', 'NOUN']\n",
      "----------------------------------------------------------------**\n",
      "['Robert', 'parks', 'car', 'at', 'nights']\n",
      "['NOUN', 'VERB', 'NOUN', 'MODIFIER', 'NOUN']\n"
     ]
    }
   ],
   "source": [
    "# sentence 1 and pos\n",
    "print(s1)\n",
    "print(s1_pos)\n",
    "print(\"----------------------------------------------------------------**\")\n",
    "\n",
    "# Sentence 2 and pos\n",
    "print(s2)\n",
    "print(s2_pos)"
   ]
  },
  {
   "cell_type": "code",
   "execution_count": 6,
   "id": "fcaae8c8",
   "metadata": {},
   "outputs": [
    {
     "name": "stdout",
     "output_type": "stream",
     "text": [
      "['venkat', 'plays', 'in', 'parks', 'Robert', 'parks', 'car', 'at', 'nights']\n",
      "--------------------------------------------------------------------------------**\n",
      "['NOUN', 'VERB', 'MODIFIER', 'NOUN', 'NOUN', 'VERB', 'NOUN', 'MODIFIER', 'NOUN']\n"
     ]
    }
   ],
   "source": [
    "word_list = s1+s2\n",
    "print(word_list)\n",
    "print(\"--------------------------------------------------------------------------------**\")\n",
    "\n",
    "pos_list = s1_pos + s2_pos\n",
    "print(pos_list)"
   ]
  },
  {
   "cell_type": "markdown",
   "id": "d86358f0",
   "metadata": {},
   "source": [
    "## Hidden Markov Model"
   ]
  },
  {
   "cell_type": "code",
   "execution_count": 7,
   "id": "fc1dff77",
   "metadata": {},
   "outputs": [],
   "source": [
    "# Build a Hidden Markov Model\n",
    "hmm_model = HiddenMarkovModel(name = 'POS_Tagger_HMM')"
   ]
  },
  {
   "cell_type": "markdown",
   "id": "49fcc562",
   "metadata": {},
   "source": [
    "### Add the Hidden States with their Emmision probabilities(observation states) to the model"
   ]
  },
  {
   "cell_type": "markdown",
   "id": "76230bec",
   "metadata": {},
   "source": [
    "### Hidden states with their emmision counts\n",
    "- **Keys will be Hidden states(here, pos_list are keys)**\n",
    "- **value of each key will be emmision from the hidden state(a dictionary of word frequency for that POS)**"
   ]
  },
  {
   "cell_type": "code",
   "execution_count": 8,
   "id": "8be50f91",
   "metadata": {},
   "outputs": [
    {
     "name": "stdout",
     "output_type": "stream",
     "text": [
      "['NOUN', 'VERB', 'MODIFIER', 'NOUN', 'NOUN', 'VERB', 'NOUN', 'MODIFIER', 'NOUN']\n",
      "['venkat', 'plays', 'in', 'parks', 'Robert', 'parks', 'car', 'at', 'nights']\n"
     ]
    }
   ],
   "source": [
    "print(pos_list)\n",
    "print(word_list)"
   ]
  },
  {
   "cell_type": "code",
   "execution_count": 9,
   "id": "5f3a3527",
   "metadata": {},
   "outputs": [
    {
     "name": "stdout",
     "output_type": "stream",
     "text": [
      "defaultdict(<function <lambda> at 0x000001EDAF68C310>,\n",
      "            {'MODIFIER': defaultdict(<class 'int'>, {'in': 1, 'at': 1}),\n",
      "             'NOUN': defaultdict(<class 'int'>,\n",
      "                                 {'Robert': 1,\n",
      "                                  'car': 1,\n",
      "                                  'nights': 1,\n",
      "                                  'parks': 1,\n",
      "                                  'venkat': 1}),\n",
      "             'VERB': defaultdict(<class 'int'>, {'plays': 1, 'parks': 1})})\n"
     ]
    }
   ],
   "source": [
    "POS_wordsfreq = defaultdict(lambda: defaultdict(int))\n",
    "for POS, word in zip(pos_list, word_list):\n",
    "    POS_wordsfreq[POS][word] += 1\n",
    "pprint(POS_wordsfreq)"
   ]
  },
  {
   "cell_type": "code",
   "execution_count": 10,
   "id": "4bdcc57f",
   "metadata": {},
   "outputs": [
    {
     "data": {
      "text/plain": [
       "dict_items([('NOUN', defaultdict(<class 'int'>, {'venkat': 1, 'parks': 1, 'Robert': 1, 'car': 1, 'nights': 1})), ('VERB', defaultdict(<class 'int'>, {'plays': 1, 'parks': 1})), ('MODIFIER', defaultdict(<class 'int'>, {'in': 1, 'at': 1}))])"
      ]
     },
     "execution_count": 10,
     "metadata": {},
     "output_type": "execute_result"
    }
   ],
   "source": [
    "POS_wordsfreq.items()"
   ]
  },
  {
   "cell_type": "code",
   "execution_count": 11,
   "id": "d893be82",
   "metadata": {},
   "outputs": [
    {
     "data": {
      "text/plain": [
       "dict_values([defaultdict(<class 'int'>, {'venkat': 1, 'parks': 1, 'Robert': 1, 'car': 1, 'nights': 1}), defaultdict(<class 'int'>, {'plays': 1, 'parks': 1}), defaultdict(<class 'int'>, {'in': 1, 'at': 1})])"
      ]
     },
     "execution_count": 11,
     "metadata": {},
     "output_type": "execute_result"
    }
   ],
   "source": [
    "POS_wordsfreq.values()"
   ]
  },
  {
   "cell_type": "markdown",
   "id": "c4ac0818",
   "metadata": {},
   "source": [
    "## Calculate emmision probabilities and add each POS 'State' object to the model"
   ]
  },
  {
   "cell_type": "code",
   "execution_count": 13,
   "id": "ef7c4ad3",
   "metadata": {},
   "outputs": [
    {
     "name": "stdout",
     "output_type": "stream",
     "text": [
      "-----------------------------------------------\n",
      "NOUN total: 5.0\n",
      "{'venkat': 0.2, 'parks': 0.2, 'Robert': 0.2, 'car': 0.2, 'nights': 0.2}\n",
      "{\n",
      "    \"class\" : \"State\",\n",
      "    \"distribution\" : {\n",
      "        \"class\" : \"Distribution\",\n",
      "        \"dtype\" : \"str\",\n",
      "        \"name\" : \"DiscreteDistribution\",\n",
      "        \"parameters\" : [\n",
      "            {\n",
      "                \"venkat\" : 0.2,\n",
      "                \"parks\" : 0.2,\n",
      "                \"Robert\" : 0.2,\n",
      "                \"car\" : 0.2,\n",
      "                \"nights\" : 0.2\n",
      "            }\n",
      "        ],\n",
      "        \"frozen\" : false\n",
      "    },\n",
      "    \"name\" : \"NOUN\",\n",
      "    \"weight\" : 1.0\n",
      "}\n",
      "-----------------------------------------------\n",
      "VERB total: 2.0\n",
      "{'plays': 0.5, 'parks': 0.5}\n",
      "{\n",
      "    \"class\" : \"State\",\n",
      "    \"distribution\" : {\n",
      "        \"class\" : \"Distribution\",\n",
      "        \"dtype\" : \"str\",\n",
      "        \"name\" : \"DiscreteDistribution\",\n",
      "        \"parameters\" : [\n",
      "            {\n",
      "                \"plays\" : 0.5,\n",
      "                \"parks\" : 0.5\n",
      "            }\n",
      "        ],\n",
      "        \"frozen\" : false\n",
      "    },\n",
      "    \"name\" : \"VERB\",\n",
      "    \"weight\" : 1.0\n",
      "}\n",
      "-----------------------------------------------\n",
      "MODIFIER total: 2.0\n",
      "{'in': 0.5, 'at': 0.5}\n",
      "{\n",
      "    \"class\" : \"State\",\n",
      "    \"distribution\" : {\n",
      "        \"class\" : \"Distribution\",\n",
      "        \"dtype\" : \"str\",\n",
      "        \"name\" : \"DiscreteDistribution\",\n",
      "        \"parameters\" : [\n",
      "            {\n",
      "                \"in\" : 0.5,\n",
      "                \"at\" : 0.5\n",
      "            }\n",
      "        ],\n",
      "        \"frozen\" : false\n",
      "    },\n",
      "    \"name\" : \"MODIFIER\",\n",
      "    \"weight\" : 1.0\n",
      "}\n"
     ]
    }
   ],
   "source": [
    "to_states = []\n",
    "for POS, WordsFreq in POS_wordsfreq.items():     # creating(POs, WordsFreq) two variables in POS_wordsfreq.items \n",
    "    total = float(sum(WordsFreq.values()))    # count of how many nouns, verbs, modifiers (pos tags names)\n",
    "    print(\"-----------------------------------------------\")\n",
    "    print(POS, 'total:',total)\n",
    "    emmision_prob = {word: count/total for word, count in WordsFreq.items()}     # count of nouns, verbs,modifiers with names\n",
    "    print(emmision_prob)                                                           # with probability\n",
    "    \n",
    "    POS_state = State(DiscreteDistribution(emmision_prob), name = POS)\n",
    "    print(POS_state)\n",
    "    to_states.append(POS_state)        # adding Discrete distribution "
   ]
  },
  {
   "cell_type": "code",
   "execution_count": 14,
   "id": "b8945510",
   "metadata": {},
   "outputs": [
    {
     "name": "stdout",
     "output_type": "stream",
     "text": [
      "any keyshivani\n"
     ]
    },
    {
     "data": {
      "text/plain": [
       "'shivani'"
      ]
     },
     "execution_count": 14,
     "metadata": {},
     "output_type": "execute_result"
    }
   ],
   "source": [
    "input(\"any key\")"
   ]
  },
  {
   "cell_type": "code",
   "execution_count": 16,
   "id": "23c01c16",
   "metadata": {},
   "outputs": [
    {
     "name": "stdout",
     "output_type": "stream",
     "text": [
      "<class 'pomegranate.base.State'>\n",
      "3\n",
      "['NOUN', 'VERB', 'MODIFIER']\n",
      "{\n",
      "    \"class\" : \"State\",\n",
      "    \"distribution\" : {\n",
      "        \"class\" : \"Distribution\",\n",
      "        \"dtype\" : \"str\",\n",
      "        \"name\" : \"DiscreteDistribution\",\n",
      "        \"parameters\" : [\n",
      "            {\n",
      "                \"in\" : 0.5,\n",
      "                \"at\" : 0.5\n",
      "            }\n",
      "        ],\n",
      "        \"frozen\" : false\n",
      "    },\n",
      "    \"name\" : \"MODIFIER\",\n",
      "    \"weight\" : 1.0\n",
      "}\n"
     ]
    }
   ],
   "source": [
    "print(type(to_states[0]))\n",
    "print(len(to_states))\n",
    "print([state.name for state in to_states])\n",
    "print(to_states[2])     # Here, I set index 2 to see Modifier u can check 0,1 indexes to see noun and verb"
   ]
  },
  {
   "cell_type": "markdown",
   "id": "2eba58ae",
   "metadata": {},
   "source": [
    "## Add Start and End Tag Transition probabilities"
   ]
  },
  {
   "cell_type": "markdown",
   "id": "2e035274",
   "metadata": {},
   "source": [
    "##### Counts for transition from start tag and transition to end tag "
   ]
  },
  {
   "cell_type": "code",
   "execution_count": 17,
   "id": "c788e3be",
   "metadata": {},
   "outputs": [
    {
     "data": {
      "text/plain": [
       "['NOUN',\n",
       " 'VERB',\n",
       " 'MODIFIER',\n",
       " 'NOUN',\n",
       " 'NOUN',\n",
       " 'VERB',\n",
       " 'NOUN',\n",
       " 'MODIFIER',\n",
       " 'NOUN']"
      ]
     },
     "execution_count": 17,
     "metadata": {},
     "output_type": "execute_result"
    }
   ],
   "source": [
    "pos_list"
   ]
  },
  {
   "cell_type": "code",
   "execution_count": 18,
   "id": "fad66c86",
   "metadata": {},
   "outputs": [
    {
     "name": "stdout",
     "output_type": "stream",
     "text": [
      "('NOUN', 'VERB', 'MODIFIER', 'NOUN')\n",
      "('NOUN', 'MODIFIER', 'VERB', 'NOUN')\n"
     ]
    }
   ],
   "source": [
    "from_front = s1_pos[0],s1_pos[1],s1_pos[2],s1_pos[3]\n",
    "from_reverse = s1_pos[-1],s1_pos[-2],s1_pos[-3],s1_pos[-4]\n",
    "print(from_front)\n",
    "print(from_reverse)"
   ]
  },
  {
   "cell_type": "code",
   "execution_count": 20,
   "id": "7993caad",
   "metadata": {},
   "outputs": [
    {
     "name": "stdout",
     "output_type": "stream",
     "text": [
      "['NOUN', 'VERB', 'MODIFIER', 'NOUN']\n",
      "['NOUN', 'VERB', 'NOUN', 'MODIFIER', 'NOUN']\n",
      "------------------------------------------------------------------\n",
      "start Pos list: ['NOUN', 'NOUN']\n",
      "-------------------------------------------------------------------\n",
      "End Pos list: ['NOUN', 'NOUN']\n",
      "-------------------------------------------------------------------\n",
      "Start POS Count: Counter({'NOUN': 2})\n",
      "--------------------------------------------------------------------\n",
      "End Pos Count: Counter({'NOUN': 2})\n",
      "--------------------------------------------------------------------\n",
      "POS Unigram counts: Counter({'NOUN': 5, 'VERB': 2, 'MODIFIER': 2})\n"
     ]
    }
   ],
   "source": [
    "print(s1_pos)\n",
    "print(s2_pos)\n",
    "\n",
    "print(\"------------------------------------------------------------------\")\n",
    "start_pos_list = [s1_pos[0],s2_pos[0]]\n",
    "print(\"start Pos list:\",start_pos_list)\n",
    "\n",
    "print(\"-------------------------------------------------------------------\")\n",
    "\n",
    "end_pos_list = [s1_pos[-1],s2_pos[-1]]\n",
    "print(\"End Pos list:\",end_pos_list)\n",
    "\n",
    "print(\"-------------------------------------------------------------------\")\n",
    "\n",
    "start_pos_count = Counter(start_pos_list)\n",
    "print(\"Start POS Count:\", start_pos_count)\n",
    "\n",
    "print(\"--------------------------------------------------------------------\")\n",
    "\n",
    "end_pos_count = Counter(end_pos_list)\n",
    "print(\"End Pos Count:\",end_pos_count)\n",
    "\n",
    "print(\"--------------------------------------------------------------------\")\n",
    "\n",
    "pos_count_unigrams = Counter(pos_list)\n",
    "print(\"POS Unigram counts:\",pos_count_unigrams)"
   ]
  },
  {
   "cell_type": "markdown",
   "id": "9f9b2ab6",
   "metadata": {},
   "source": [
    "### Start and End Probability for each POS Tag\n",
    "- **Finding the probability from starting to Noun, verb, modifier and LIke wise finding the end probability from ending to Noun, verb and modifier**"
   ]
  },
  {
   "cell_type": "code",
   "execution_count": 26,
   "id": "946faed6",
   "metadata": {},
   "outputs": [
    {
     "name": "stdout",
     "output_type": "stream",
     "text": [
      "{'NOUN': 0.4, 'VERB': 0.0, 'MODIFIER': 0.0}\n",
      "{'NOUN': 0.4, 'VERB': 0.0, 'MODIFIER': 0.0}\n"
     ]
    }
   ],
   "source": [
    "start_prob, end_prob = {},{}        \n",
    "for ps in pos_count_unigrams:\n",
    "    start_prob[ps] = start_pos_count[ps]/pos_count_unigrams[ps]\n",
    "    end_prob[ps] = end_pos_count[ps]/pos_count_unigrams[ps]\n",
    "    \n",
    "print(start_prob)\n",
    "print(end_prob)"
   ]
  },
  {
   "cell_type": "markdown",
   "id": "92ca5544",
   "metadata": {},
   "source": [
    "## Add Start & End probabilities to the model"
   ]
  },
  {
   "cell_type": "code",
   "execution_count": 27,
   "id": "6261c228",
   "metadata": {},
   "outputs": [],
   "source": [
    "for Pos_states in to_states:\n",
    "    hmm_model.add_transition(hmm_model.start, Pos_states, start_prob[Pos_states.name])\n",
    "    hmm_model.add_transition(hmm_model.end, Pos_states, end_prob[Pos_states.name])"
   ]
  },
  {
   "cell_type": "markdown",
   "id": "0bbe3bbf",
   "metadata": {},
   "source": [
    "### Add tranition probabilities between POS states"
   ]
  },
  {
   "cell_type": "markdown",
   "id": "3f926413",
   "metadata": {},
   "source": [
    "### Hidden State transition counts- Using POS_List Bigrams"
   ]
  },
  {
   "cell_type": "code",
   "execution_count": 28,
   "id": "6923ca2c",
   "metadata": {},
   "outputs": [
    {
     "data": {
      "text/plain": [
       "['NOUN',\n",
       " 'VERB',\n",
       " 'MODIFIER',\n",
       " 'NOUN',\n",
       " 'NOUN',\n",
       " 'VERB',\n",
       " 'NOUN',\n",
       " 'MODIFIER',\n",
       " 'NOUN']"
      ]
     },
     "execution_count": 28,
     "metadata": {},
     "output_type": "execute_result"
    }
   ],
   "source": [
    "pos_list"
   ]
  },
  {
   "cell_type": "code",
   "execution_count": 33,
   "id": "9dc86620",
   "metadata": {},
   "outputs": [
    {
     "name": "stdout",
     "output_type": "stream",
     "text": [
      "[('NOUN', 'VERB'),\n",
      " ('VERB', 'MODIFIER'),\n",
      " ('MODIFIER', 'NOUN'),\n",
      " ('NOUN', 'NOUN'),\n",
      " ('NOUN', 'VERB'),\n",
      " ('VERB', 'NOUN'),\n",
      " ('NOUN', 'MODIFIER'),\n",
      " ('MODIFIER', 'NOUN')]\n",
      "---------------------------------------------------------\n",
      "Counter({('NOUN', 'VERB'): 2,\n",
      "         ('MODIFIER', 'NOUN'): 2,\n",
      "         ('VERB', 'MODIFIER'): 1,\n",
      "         ('NOUN', 'NOUN'): 1,\n",
      "         ('VERB', 'NOUN'): 1,\n",
      "         ('NOUN', 'MODIFIER'): 1})\n"
     ]
    }
   ],
   "source": [
    "bigram = [(pos_list[i],pos_list[i+1]) for i in range(0, len(pos_list)-1,1)]\n",
    "pprint(bigram)\n",
    "\n",
    "print(\"---------------------------------------------------------\")\n",
    "\n",
    "pos_count_bag = Counter(bigram)     # how many  times bigrams are repeating\n",
    "pprint(pos_count_bag)"
   ]
  },
  {
   "cell_type": "markdown",
   "id": "423d34b2",
   "metadata": {},
   "source": [
    "## Tansition Probabilities for each POS tag pair"
   ]
  },
  {
   "cell_type": "code",
   "execution_count": 34,
   "id": "8e712da5",
   "metadata": {},
   "outputs": [
    {
     "data": {
      "text/plain": [
       "dict_keys([('NOUN', 'VERB'), ('VERB', 'MODIFIER'), ('MODIFIER', 'NOUN'), ('NOUN', 'NOUN'), ('VERB', 'NOUN'), ('NOUN', 'MODIFIER')])"
      ]
     },
     "execution_count": 34,
     "metadata": {},
     "output_type": "execute_result"
    }
   ],
   "source": [
    "pos_count_bag.keys()"
   ]
  },
  {
   "cell_type": "code",
   "execution_count": 40,
   "id": "313070b2",
   "metadata": {},
   "outputs": [
    {
     "data": {
      "text/plain": [
       "dict_keys(['NOUN', 'VERB', 'MODIFIER'])"
      ]
     },
     "execution_count": 40,
     "metadata": {},
     "output_type": "execute_result"
    }
   ],
   "source": [
    "pos_count_unigrams.keys()"
   ]
  },
  {
   "cell_type": "code",
   "execution_count": 46,
   "id": "473a32fa",
   "metadata": {},
   "outputs": [
    {
     "data": {
      "text/plain": [
       "{('NOUN', 'VERB'): 0.4,\n",
       " ('VERB', 'MODIFIER'): 0.5,\n",
       " ('MODIFIER', 'NOUN'): 1.0,\n",
       " ('NOUN', 'NOUN'): 0.2,\n",
       " ('VERB', 'NOUN'): 0.5,\n",
       " ('NOUN', 'MODIFIER'): 0.2}"
      ]
     },
     "execution_count": 46,
     "metadata": {},
     "output_type": "execute_result"
    }
   ],
   "source": [
    "# Getting the transition probability \n",
    "transition_probability_pos_word = {}\n",
    "for key in pos_count_bag.keys():\n",
    "    transition_probability_pos_word[key] = pos_count_bag.get(key)/pos_count_unigrams[key[0]]\n",
    "    \n",
    "transition_probability_pos_word"
   ]
  },
  {
   "cell_type": "markdown",
   "id": "0bd6eecc",
   "metadata": {},
   "source": [
    "#### If a certain pair of POS don't occur in training set, make them ZEREOS. Since our training set is very less, this issue occurs "
   ]
  },
  {
   "cell_type": "code",
   "execution_count": 47,
   "id": "4c0c86cd",
   "metadata": {},
   "outputs": [],
   "source": [
    "# If a certain pair of POS don't occur in traning set, make them ZEROES. Since our training set is very less, this issue occurs\n",
    "transition_probability_pos_word[('VERB','VERB')] = 0\n",
    "transition_probability_pos_word[('MODIFIER','VERB')] = 0\n",
    "transition_probability_pos_word[('MODIFIER','MODIFIER')] = 0"
   ]
  },
  {
   "cell_type": "code",
   "execution_count": 48,
   "id": "84bd3dc9",
   "metadata": {},
   "outputs": [
    {
     "data": {
      "text/plain": [
       "{('NOUN', 'VERB'): 0.4,\n",
       " ('VERB', 'MODIFIER'): 0.5,\n",
       " ('MODIFIER', 'NOUN'): 1.0,\n",
       " ('NOUN', 'NOUN'): 0.2,\n",
       " ('VERB', 'NOUN'): 0.5,\n",
       " ('NOUN', 'MODIFIER'): 0.2,\n",
       " ('VERB', 'VERB'): 0,\n",
       " ('MODIFIER', 'VERB'): 0,\n",
       " ('MODIFIER', 'MODIFIER'): 0}"
      ]
     },
     "execution_count": 48,
     "metadata": {},
     "output_type": "execute_result"
    }
   ],
   "source": [
    "transition_probability_pos_word"
   ]
  },
  {
   "cell_type": "code",
   "execution_count": 49,
   "id": "4207f5f8",
   "metadata": {},
   "outputs": [],
   "source": [
    "# Add transition probabilities to all POS\n",
    "for Pos_states in to_states:\n",
    "    for next_pos_state in to_states:\n",
    "        hmm_model.add_transition(Pos_states, next_pos_state,transition_probability_pos_word[(Pos_states.name,next_pos_state.name)])"
   ]
  },
  {
   "cell_type": "code",
   "execution_count": 50,
   "id": "788217c9",
   "metadata": {},
   "outputs": [],
   "source": [
    "hmm_model.bake()"
   ]
  },
  {
   "cell_type": "markdown",
   "id": "fb85cfae",
   "metadata": {},
   "source": [
    "### Decode POS for a new sentence"
   ]
  },
  {
   "cell_type": "code",
   "execution_count": 51,
   "id": "e6352202",
   "metadata": {},
   "outputs": [],
   "source": [
    "# Decode POS for a new sentence\n",
    "def pos_decoding(sentence,model):\n",
    "    decode,state_path = model.viterbi(sentence)\n",
    "    return [state[1].name for state in state_path[1:-1]]"
   ]
  },
  {
   "cell_type": "code",
   "execution_count": 52,
   "id": "fd994d3f",
   "metadata": {},
   "outputs": [
    {
     "name": "stdout",
     "output_type": "stream",
     "text": [
      "['venkat', 'plays', 'in', 'parks']\n",
      "['Robert', 'parks', 'car', 'at', 'nights']\n"
     ]
    }
   ],
   "source": [
    "print(s1)\n",
    "print(s2)"
   ]
  },
  {
   "cell_type": "code",
   "execution_count": 55,
   "id": "ca8b7763",
   "metadata": {},
   "outputs": [
    {
     "name": "stdout",
     "output_type": "stream",
     "text": [
      "('venkat', 'parks', 'car', 'in', 'parks')\n",
      "['NOUN', 'VERB', 'NOUN', 'MODIFIER']\n"
     ]
    }
   ],
   "source": [
    "s3 = ('venkat','parks','car','in','parks')\n",
    "print(s3)\n",
    "pos_tags = pos_decoding(s3, hmm_model)\n",
    "print(str(pos_tags))"
   ]
  },
  {
   "cell_type": "code",
   "execution_count": 56,
   "id": "9827c2ff",
   "metadata": {},
   "outputs": [
    {
     "name": "stdout",
     "output_type": "stream",
     "text": [
      "['venkat', 'plays', 'at', 'nights', 'in', 'parks']\n",
      "['NOUN', 'VERB', 'MODIFIER', 'NOUN', 'MODIFIER']\n"
     ]
    }
   ],
   "source": [
    "s3 = ['venkat','plays','at','nights','in','parks']\n",
    "print(s3)\n",
    "\n",
    "pos_tags = pos_decoding(s3, hmm_model)\n",
    "print(str(pos_tags))"
   ]
  },
  {
   "cell_type": "code",
   "execution_count": 58,
   "id": "30059732",
   "metadata": {},
   "outputs": [
    {
     "name": "stdout",
     "output_type": "stream",
     "text": [
      "['venkat', 'plays', 'in', 'parks']\n",
      "['NOUN', 'VERB', 'MODIFIER']\n"
     ]
    }
   ],
   "source": [
    "s4 = ['venkat', 'plays', 'in', 'parks']\n",
    "print(s4)\n",
    "pos_tags1 = pos_decoding(s4, hmm_model)\n",
    "print(str(pos_tags1))           # showing one time pos tags after decoding "
   ]
  },
  {
   "cell_type": "code",
   "execution_count": 60,
   "id": "2e9c8ad2",
   "metadata": {},
   "outputs": [
    {
     "name": "stdout",
     "output_type": "stream",
     "text": [
      "['Robert', 'parks', 'car', 'at', 'nights']\n",
      "['NOUN', 'VERB', 'NOUN', 'MODIFIER']\n"
     ]
    }
   ],
   "source": [
    "s5 = ['Robert', 'parks', 'car', 'at', 'nights']\n",
    "print(s5)\n",
    "pos_tags2 = pos_decoding(s5, hmm_model)\n",
    "print(str(pos_tags2))"
   ]
  },
  {
   "cell_type": "code",
   "execution_count": 57,
   "id": "2149a748",
   "metadata": {},
   "outputs": [],
   "source": [
    "# original \n",
    "sent1 = \"venkat plays in parks\"\n",
    "sent1_pos = \"NOUN VERB MODIFIER NOUN\"\n",
    "sent2 = \"Robert parks car at nights\"\n",
    "sent2_pos = \"NOUN VERB NOUN MODIFIER NOUN\""
   ]
  },
  {
   "cell_type": "code",
   "execution_count": null,
   "id": "40a6253c",
   "metadata": {},
   "outputs": [],
   "source": []
  }
 ],
 "metadata": {
  "kernelspec": {
   "display_name": "Python 3 (ipykernel)",
   "language": "python",
   "name": "python3"
  },
  "language_info": {
   "codemirror_mode": {
    "name": "ipython",
    "version": 3
   },
   "file_extension": ".py",
   "mimetype": "text/x-python",
   "name": "python",
   "nbconvert_exporter": "python",
   "pygments_lexer": "ipython3",
   "version": "3.9.12"
  }
 },
 "nbformat": 4,
 "nbformat_minor": 5
}
